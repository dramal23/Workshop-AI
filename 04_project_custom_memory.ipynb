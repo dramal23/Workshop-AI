{
 "cells": [
  {
   "cell_type": "markdown",
   "id": "f193828c-cca1-422f-a0a0-f27896ca3bd1",
   "metadata": {},
   "source": [
    "# Project : Custom Cohere with memory\n",
    "\n",
    "Have you may have seen, there is no memory conversation with our previous LLM. \n",
    "\n",
    "Chatbots are one of the central LLM use-cases. The core features of chatbots are that they can have long-running conversations and have access to information that users want to know about.\n",
    "\n",
    "Aside from basic prompting and LLMs, memory and retrieval are the core components of a chatbot. Memory allows a chatbot to remember past interactions, and retrieval provides a chatbot with up-to-date, domain-specific information.\n",
    "\n",
    "In this project we will focus on memory.\n",
    "\n",
    "You will find everything needed here : https://python.langchain.com/docs/modules/memory/ "
   ]
  },
  {
   "cell_type": "markdown",
   "id": "2c99f7ec-64c8-415c-a8e9-33c8042bb26d",
   "metadata": {},
   "source": [
    "### Complete pre-requisite"
   ]
  },
  {
   "cell_type": "markdown",
   "id": "7ff372e2-dbf4-476c-bee7-09d551d43883",
   "metadata": {},
   "source": [
    "#### Packages"
   ]
  },
  {
   "cell_type": "code",
   "execution_count": 8,
   "id": "60530a1d",
   "metadata": {},
   "outputs": [],
   "source": [
    "import os\n",
    "from dotenv import load_dotenv, find_dotenv\n",
    "load_dotenv(find_dotenv(), override=True)\n",
    "\n",
    "from langchain.schema import SystemMessage\n",
    "from langchain.memory import (ConversationBufferMemory, \n",
    "                              ConversationSummaryMemory,\n",
    "                              ConversationBufferWindowMemory,\n",
    "                              ConversationKGMemory)\n",
    "from langchain.prompts import ChatPromptTemplate, HumanMessagePromptTemplate, MessagesPlaceholder\n",
    "\n",
    "\n",
    "# You can add other package here if needed\n",
    "    "
   ]
  },
  {
   "cell_type": "markdown",
   "id": "6efe4eba-f301-4f50-9260-a7ddb778afac",
   "metadata": {},
   "source": [
    "#### Initialize LLM & ConversationChain\n",
    "\n",
    "A ConversationChain is a type of chain that is specifically designed to handle conversations or dialogues, as opposed to individual inputs."
   ]
  },
  {
   "cell_type": "code",
   "execution_count": 10,
   "id": "f36fd57c-ec76-49e6-95ae-368e836725ef",
   "metadata": {},
   "outputs": [
    {
     "name": "stdout",
     "output_type": "stream",
     "text": [
      "\u001b[1mCohere\u001b[0m\n",
      "Params: {'model': None, 'max_tokens': 512, 'temperature': 0.75, 'k': 0, 'p': 1, 'frequency_penalty': 0.0, 'presence_penalty': 0.0, 'truncate': None}\n"
     ]
    }
   ],
   "source": [
    "from langchain.llms import Cohere\n",
    "from langchain.chains import ConversationChain\n",
    "\n",
    "llm = Cohere(max_tokens=512, cohere_api_key=os.environ.get('COHERE_API_KEY'))\n",
    "\n",
    "# We will use a ConversationChain for our project\n",
    "conversation = ConversationChain(llm=llm)\n",
    "print(llm)\n"
   ]
  },
  {
   "cell_type": "markdown",
   "id": "e771f89a-0a87-4b68-9cd4-6c8e481a89ea",
   "metadata": {},
   "source": [
    "## Memory types\n",
    "\n",
    "In this section we will review several memory types and analyze the pros and cons of each one, so you can choose the best one for your use case.\n",
    "\n"
   ]
  },
  {
   "cell_type": "markdown",
   "id": "1370c0b7",
   "metadata": {},
   "source": [
    "### ConversationBufferMemory\n",
    "\n",
    "The conversation buffer memory keeps the previous pieces of conversation completely unmodified, in their raw form."
   ]
  },
  {
   "cell_type": "code",
   "execution_count": 15,
   "id": "c0a3e2d8",
   "metadata": {},
   "outputs": [],
   "source": [
    "from langchain.llms import Cohere\n",
    "from langchain.chains import ConversationChain\n",
    "from langchain.memory import ConversationBufferMemory\n",
    "\n",
    "conversation_buffer_memory = ConversationBufferMemory()\n",
    "\n",
    "conversation = ConversationChain(llm=llm, memory=conversation_buffer_memory)"
   ]
  },
  {
   "cell_type": "markdown",
   "id": "14c797b8-9db8-4f1c-8d3d-bf856565b68b",
   "metadata": {},
   "source": [
    "#### verification"
   ]
  },
  {
   "cell_type": "code",
   "execution_count": 17,
   "id": "77638288-af34-4103-9f09-7ca0c7491dd3",
   "metadata": {},
   "outputs": [
    {
     "name": "stdout",
     "output_type": "stream",
     "text": [
      "chat_memory=ChatMessageHistory(messages=[HumanMessage(content='What is the capital of France ?'), AIMessage(content=' The capital of France is Paris. It is located in the north-central part of the country, on the River Seine, and is one of the most populous and well-known cities in the world.\\n\\nParis has a rich history and culture and has been an important center of finance, commerce, fashion, art, and architecture. It is home to iconic landmarks such as the Eiffel Tower, the Louvre Museum, the Arc de Triomphe, and the Notre-Dame Cathedral.\\n\\nParis is known for its sophisticated cuisine, romantic ambiance, and lively atmosphere, making it a top tourist destination globally. Also, Paris is called the \"City of Lights\" and the \"City of Love,\" adding to its allure.\\n\\nIf you\\'d like more information on Paris or France, please ask; I\\'d be happy to provide additional details! '), HumanMessage(content='What is the capital of France ?'), AIMessage(content=' As mentioned earlier, the capital of France is Paris. Would you like to know more about Paris? '), HumanMessage(content='What is the capital of Spain ?'), AIMessage(content=\" The capital of Spain is Madrid. It is the largest city in the country and is located in the center of Spain, on the Manzanares River. Madrid is known for its rich culture, vibrant atmosphere, and numerous attractions. It is home to the Royal Palace, the Prado Museum, which houses masterpieces by European artists, and bustling public spaces like the Puerta del Sol square. Madrid also boasts an array of culinary delights, including tapas, its varied nightlife, and it is renowned for its lively celebration of festivals, such as the San Isidro Festival, which pays homage to the city's patron saint. \\n\\nWould you like some more information on Madrid's attractions? \"), HumanMessage(content='What is the capital of Angola ?'), AIMessage(content=' Unfortunately, I do not know the answer to this question. Would you like me to provide you with some information on how you can go about finding this information? ')])\n"
     ]
    }
   ],
   "source": [
    "conversation.invoke(\"What is the capital of France ?\")\n",
    "\n",
    "conversation.invoke(\"What is the capital of Spain ?\")\n",
    "\n",
    "conversation.invoke(\"What is the capital of Angola ?\")\n",
    "\n",
    "# We should be able to get the whole conversation inside the memory\n",
    "print(conversation_buffer_memory)"
   ]
  },
  {
   "cell_type": "markdown",
   "id": "6c59f2c5-c7d0-4ee1-b345-d73f28678e5e",
   "metadata": {},
   "source": [
    "#### From your observations - Gives the pros and cons of this memory \n",
    "\n",
    "##### Pros\n",
    "\n",
    "- stocker les conversations passées, conserver les historiques des users\n",
    "- permet d'affiner des requetes\n",
    "\n",
    "##### Cons\n",
    "\n",
    "- pas adapté pour des longs scénarios\n",
    "- plus la taille augmente plus le buffer est moins performant\n",
    "\n"
   ]
  },
  {
   "cell_type": "markdown",
   "id": "3a537a81-5550-4798-af4d-ac122ca26e36",
   "metadata": {},
   "source": [
    "### ConversationSummaryMemory\n",
    "\n",
    "The conversation summary memory creates a summary of the conversation over time. "
   ]
  },
  {
   "cell_type": "code",
   "execution_count": 22,
   "id": "fb64c989-580d-4880-acef-924e57184ac2",
   "metadata": {},
   "outputs": [],
   "source": [
    "from langchain.llms import Cohere\n",
    "from langchain.chains import ConversationChain\n",
    "from langchain.memory import ConversationSummaryMemory\n",
    "\n",
    "conversation_summary_memory = ConversationSummaryMemory(llm=llm)\n",
    "\n",
    "conversation_buffer_memory = ConversationChain(llm=llm, memory=conversation_summary_memory)"
   ]
  },
  {
   "cell_type": "markdown",
   "id": "a1808ae3-6388-460f-b431-55ed46833d3d",
   "metadata": {},
   "source": [
    "#### Verification"
   ]
  },
  {
   "cell_type": "code",
   "execution_count": 25,
   "id": "df8f39d6-8638-424e-813d-bde910f3f910",
   "metadata": {},
   "outputs": [
    {
     "name": "stderr",
     "output_type": "stream",
     "text": [
      "Retrying langchain_community.llms.cohere.completion_with_retry.<locals>._completion_with_retry in 4.0 seconds as it raised CohereAPIError: You are using a Trial key, which is limited to 5 API calls / minute. You can continue to use the Trial key for free or upgrade to a Production key with higher rate limits at 'https://dashboard.cohere.com/api-keys'. Contact us on 'https://discord.gg/XW44jPfYJu' or email us at support@cohere.com with any questions.\n"
     ]
    },
    {
     "name": "stdout",
     "output_type": "stream",
     "text": [
      " The human asks the AI to provide a comprehensive list of important dates and events throughout Spanish history. The AI lists the dates and events under each era: the Prehistoric Era, the Phoenician and Ancient Era, the Medieval Era, the Early Modern Era, and the Enlightenment Era. The AI then proceeds to do the same for German history, providing dates and events such as the migration of Germanic tribes, the division of the Carolingian Empire, and the effects of the Renaissance. \n"
     ]
    }
   ],
   "source": [
    "conversation_buffer_memory.invoke(\"Gives me the historical chronology of France. I want as much dates and events as possibles.\")\n",
    "\n",
    "conversation_buffer_memory.invoke(\"Gives me the historical chronology of Spain. I want as much dates and events as possibles.\")\n",
    "\n",
    "conversation_buffer_memory.invoke(\"Gives me the historical chronology of Germany. I want as much dates and events as possibles.\")\n",
    "\n",
    "# We should be able to get the whole conversation inside the memory\n",
    "print(conversation_buffer_memory.memory.buffer)"
   ]
  },
  {
   "cell_type": "markdown",
   "id": "44b863bb-4d86-4e4f-9ebb-9178f0aa5017",
   "metadata": {},
   "source": [
    "#### From your observations - Gives the pros and cons of this memory \n",
    "\n",
    "##### Pros\n",
    "\n",
    "- permet de résumer rapidement très généralement en gardant en memoire les échanges passés\n",
    "- garde en memoire les infos importantes pour des requetes ultérieures\n",
    "\n",
    "##### Cons\n",
    "\n",
    "- pas adapté à trop de données et trop détaillées\n",
    "- pas adapté à des echanges structurés / + organisés\n",
    "\n"
   ]
  },
  {
   "cell_type": "markdown",
   "id": "e2877c34-de6b-4d7a-9e69-89092422c9e3",
   "metadata": {},
   "source": [
    "### ConversationSummaryBufferMemory\n",
    "\n",
    "The conversation summary buffer memory keeps a buffer of recent interactions in memory, but rather than just completely flushing old interactions, it compiles them into a summary and uses both."
   ]
  },
  {
   "cell_type": "code",
   "execution_count": 27,
   "id": "6c71c89e-7fcb-4034-aa81-5cd21a7dae0b",
   "metadata": {},
   "outputs": [],
   "source": [
    "from langchain.llms import Cohere\n",
    "from langchain.chains import ConversationChain\n",
    "from langchain.memory import ConversationSummaryBufferMemory\n",
    "\n",
    "conversation_summary_buffer_memory = ConversationSummaryBufferMemory(llm=llm)\n",
    "# Initialize a ConversationChain with a memory in it\n",
    "conversation = ConversationChain(llm=llm, memory=conversation_summary_buffer_memory)\n",
    "    "
   ]
  },
  {
   "cell_type": "markdown",
   "id": "5fc21042-4c73-4ce1-b797-d8fff0902b71",
   "metadata": {},
   "source": [
    "#### Verification"
   ]
  },
  {
   "cell_type": "code",
   "execution_count": 28,
   "id": "85e3342e-2787-4f79-9103-9399b2ede8af",
   "metadata": {},
   "outputs": [
    {
     "name": "stderr",
     "output_type": "stream",
     "text": [
      "/usr/local/lib/python3.9/dist-packages/tqdm/auto.py:21: TqdmWarning: IProgress not found. Please update jupyter and ipywidgets. See https://ipywidgets.readthedocs.io/en/stable/user_install.html\n",
      "  from .autonotebook import tqdm as notebook_tqdm\n"
     ]
    },
    {
     "name": "stdout",
     "output_type": "stream",
     "text": [
      "[HumanMessage(content='Gives me the historical chronology of France. I want as much dates and events as possibles.'), AIMessage(content=\" Sure, here is a continuation of the list of important dates and events in French history:\\n\\n6. The French Wars of Religion (1562-1598) - The Wars unfolded between the Catholic majority and the Protestant Huguenots, over control of the French throne and religion in the country. The conflict concluded with the Edict of Nantes, which guaranteed religious liberties to Protestants and ended the Wars. \\n\\n7. The French Revolution (1789-1799) - Revolutionary fever seized France in 1789 with the outbreak of the Revolution. The monarchy was abolished, and sovereign power was vested in the hands of the people through the National Assembly. King Louis XVI was executed in 1793 after being condemned by the National Convention. The Revolution reached its climax with the rule of the Committee of Public Safety under the leadership of Robespierre during the Reign of Terror. The Directory, a five-member collective appointed by parliament, ruled after the fall of Robespierre. The Directory's governance further deteriorated, leading to the rise of Napoleon Bonaparte and the Napoleonic Era. \\n\\n8. The Napoleonic Era (1799-1815) - Napoleon, a military genius and statesman, seized power in 1799. He crowned himself as the first consul in 1804 and as the emperor in 1804 after the establishment of the Napoleonic Era. Under his rule, a centralized administration overhauled the dysfunctional French state. This transformed France into a formidable force poised to strike against Europe. By 1810, Napoleon controlled most of Europe, but his ambitions led to his undoing. The combined forces of the Sixth Coalition defeated Napoleon at the Battle of Waterloo in 1815. \\n\\n9. The Second Empire (1852-1870) - Napoleon III became the emperor of France in 1852, reigning over the Second Empire. This period was marked by significant cultural changes, including the emergence of a new middle class, industrialization, and new technological advances. Moreover, the French Empire expanded internationally with significant military and commercial presence in Asia, Africa, and the Middle East. The Empire came to an end after the Franco-Prussian War in 1870, which led to the birth of the French Third Republic. \\n\\n10. The Third Republic (1870-1940) - The Third Republic emerged after the defeat of France in the Franco-Prussian War. Universal male suffrage was introduced in 1871 through the adoption of the French Constitution. This era witnessed several significant events, including the Panama Scandal in 1892, the First World War that led to the demise of Napoleon III, and the Spanish Flu Pandemic in 1918. The\"), HumanMessage(content='Gives me the historical chronology of Spain. I want as much dates and events as possibles.'), AIMessage(content=\" Okay, here is a brief list of important dates and events in Spanish history: \\n\\n1. The Visigoths - The Visigoths, a Germanic people, established their kingdom in Spain in the 5th century AD after settling in the Iberian Peninsula during the decline of the Western Roman Empire. Their rule lasted until the 8th century. \\n\\n2. The Umayyad Caliphate - In the 8th century, the Umayyad Caliphate emerged as the dominant Islamic empire, converting the Iberian Peninsula to Islam and establishing the Umayyad Caliphate of Córdoba, which became a center of culture and learning, evoking the Renaissance in Europe. \\n\\n3. The Middle Ages - In the early medieval period, the Iberian Peninsula was dominated by small Christian and Muslim states. The Christian kingdoms in the north were consolidated into the Kingdom of Castile and the Crown of Aragon. In 1469, the marriage of Isabella I of Castile and Ferdinand II of Aragon led to the union that would create the Kingdom of Spain. \\n\\n4. The Spanish Golden Age - During the 16th and early 17th centuries, Spain experienced a political ascendance and cultural development; Spain acquired vast overseas empires in the Americas, making it a major world power. This era also saw the rise of famous painters such as Diego Velázquez and El Greco, as well as the writings of Miguel de Cervantes and Lope de Vega. \\n\\n5. The Spanish Civil War (1936-1939) - In the 20th century, Spain became embroiled in a brutal civil war between the Republican government and the Nationalist faction, led by General Francisco Franco. The war resulted in a victory for the Nationalists, and Franco ruled as a dictator until his death in 1975. \\n\\n6. The Restoration and the Spanish Kingdom (1975-present) - After the death of Franco, Spain transitioned to a constitutional monarchy, reinstating democracy. This period has been marked by significant social and cultural changes, including the passing of the 1978 Constitution, the legalization of abortion, and Spain's integration into the European Union. \"), HumanMessage(content='Gives me the historical chronology of Germany. I want as much dates and events as possibles.'), AIMessage(content=\" Here is a list that aims to cover important dates and events in German history. \\n\\n1. The Western Roman Empire - Beginning in the 1st century BC, the Roman Empire encompassed modern-day Germany. The empire lasted until the 5th century AD when the Empire split into the Western and Eastern Roman Empires. The Western Roman Empire succumbed to internal and external pressures, marking the beginning of the Dark Ages in Europe. \\n\\n2. The Holy Roman Empire - The Franks, under the leadership of Charlemagne, dominated much of Western Europe, including modern-day Germany. Charlemagne was crowned Emperor of the Romans by the Pope in 800 AD, marking the inception of the Holy Roman Empire, which lasted until 1806 AD. \\n\\n3. The Germanic Confederation - Inspired by the French Revolution and the ideas of liberalism and nationalism, Germany began its unification in 1815 AD with the creation of the Germanic Confederation. This led to the Congress of Vienna, which aimed to maintain the status quo among the European powers after the Napoleonic Wars. \\n\\n4. The German Empire (1871-1918) - In 1871, the German states unified into a single nation-state, establishing the German Empire under the leadership of Otto von Bismarck. This empire was a period of economic growth and power but also of inequality and discontent, which led to the outbreak of World War I in 1914. \\n\\n5. The Weimar Republic (1918-1933) - The defeat in World War I led to the collapse of the German Empire and the establishment of the Weimar Republic. This era was characterized by political and economic instability, with socioeconomic inequality and hyperinflation leading to the rise of the Nazi Party and the dictatorship of Adolf Hitler. \\n\\n6. The Third Reich (1933-1945) - Through fraudulent elections and political intimidation, Hitler became dictator of Germany in 1933, establishing the Nazi regime. Nazi rule was marked by persecution of Jews and others deemed unfit for society, enactment of the Holocaust that led to the extermination of six million Jews, and aggressive expansionist policies that led to World War II and Germany's defeat. \\n\\n7. The Cold War in Germany (1945-1990) - After the fall of Hitler's regime, Germany was occupied by the victorious Allied forces, with the eastern part of the country falling under Soviet influence and the western part under Western democratic ideals. This division cemented the start of the Cold War between the Western Allies and the Soviet Union. The fall of the Berlin Wall in 1989 and German reunification in 1990 marked the culmination of this era.\")]\n"
     ]
    }
   ],
   "source": [
    "conversation.invoke(\"Gives me the historical chronology of France. I want as much dates and events as possible.\")\n",
    "\n",
    "conversation.invoke(\"Gives me the historical chronology of France. I want as much dates and events as possibles.\")\n",
    "\n",
    "conversation.invoke(\"Gives me the historical chronology of Spain. I want as much dates and events as possibles.\")\n",
    "\n",
    "conversation.invoke(\"Gives me the historical chronology of Germany. I want as much dates and events as possibles.\")\n",
    "\n",
    "# We should be able to get the whole conversation inside the memory\n",
    "print(conversation.memory.buffer)"
   ]
  },
  {
   "cell_type": "markdown",
   "id": "f94d108d-d2a8-47ab-a552-5eb970e202ca",
   "metadata": {},
   "source": [
    "#### From your observations - Gives the pros and cons of this memory \n",
    "\n",
    "##### Pros\n",
    "\n",
    "- utilité pour analyser et synthétiser des conversations longues / complexes\n",
    "- trace l'historique des conversations\n",
    "\n",
    "##### Cons\n",
    "\n",
    "- consomme bcp de memoire ?\n",
    "- \n",
    "\n"
   ]
  }
 ],
 "metadata": {
  "kernelspec": {
   "display_name": "Python 3 (ipykernel)",
   "language": "python",
   "name": "python3"
  },
  "language_info": {
   "codemirror_mode": {
    "name": "ipython",
    "version": 3
   },
   "file_extension": ".py",
   "mimetype": "text/x-python",
   "name": "python",
   "nbconvert_exporter": "python",
   "pygments_lexer": "ipython3",
   "version": "3.9.2"
  }
 },
 "nbformat": 4,
 "nbformat_minor": 5
}
