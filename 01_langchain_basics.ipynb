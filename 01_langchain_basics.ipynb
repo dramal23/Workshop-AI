{
 "cells": [
  {
   "cell_type": "markdown",
   "id": "288ce9a8",
   "metadata": {
    "id": "288ce9a8"
   },
   "source": [
    "# LangChain Basics"
   ]
  },
  {
   "cell_type": "markdown",
   "id": "f2905610-9ad8-43fd-bb28-31a404ea28fe",
   "metadata": {},
   "source": [
    "## Install dependencies"
   ]
  },
  {
   "cell_type": "code",
   "execution_count": 1,
   "id": "002d92f1",
   "metadata": {
    "executionInfo": {
     "elapsed": 6656,
     "status": "ok",
     "timestamp": 1695281250556,
     "user": {
      "displayName": "Andrei Dumitrescu",
      "userId": "04285534149796751164"
     },
     "user_tz": -180
    },
    "id": "002d92f1",
    "scrolled": true
   },
   "outputs": [
    {
     "name": "stdout",
     "output_type": "stream",
     "text": [
      "Requirement already satisfied: langchain in /usr/local/lib/python3.9/dist-packages (from -r ./requirements.txt (line 2)) (0.1.11)\n",
      "Requirement already satisfied: langchain-core in /usr/local/lib/python3.9/dist-packages (from -r ./requirements.txt (line 3)) (0.1.29)\n",
      "Requirement already satisfied: langchain_experimental in /usr/local/lib/python3.9/dist-packages (from -r ./requirements.txt (line 4)) (0.0.53)\n",
      "Requirement already satisfied: pinecone-client in /usr/local/lib/python3.9/dist-packages (from -r ./requirements.txt (line 5)) (3.1.0)\n",
      "Requirement already satisfied: cohere in /usr/local/lib/python3.9/dist-packages (from -r ./requirements.txt (line 6)) (4.52)\n",
      "Requirement already satisfied: transformers in /usr/local/lib/python3.9/dist-packages (from -r ./requirements.txt (line 7)) (4.38.2)\n",
      "Requirement already satisfied: python-dotenv in /usr/local/lib/python3.9/dist-packages (from -r ./requirements.txt (line 8)) (1.0.1)\n",
      "Requirement already satisfied: torch in /usr/local/lib/python3.9/dist-packages (from -r ./requirements.txt (line 9)) (2.2.1)\n",
      "Requirement already satisfied: jupyterlab in /usr/local/lib/python3.9/dist-packages (from -r ./requirements.txt (line 10)) (4.1.3)\n",
      "Requirement already satisfied: importlib_metadata<7.0,>=6.0 in /usr/local/lib/python3.9/dist-packages (from cohere->-r ./requirements.txt (line 6)) (6.11.0)\n",
      "Requirement already satisfied: urllib3<3,>=1.26 in /usr/lib/python3/dist-packages (from cohere->-r ./requirements.txt (line 6)) (1.26.5)\n",
      "Requirement already satisfied: requests<3.0.0,>=2.25.0 in /usr/local/lib/python3.9/dist-packages (from cohere->-r ./requirements.txt (line 6)) (2.31.0)\n",
      "Requirement already satisfied: fastavro<2.0,>=1.8 in /usr/local/lib/python3.9/dist-packages (from cohere->-r ./requirements.txt (line 6)) (1.9.4)\n",
      "Requirement already satisfied: aiohttp<4.0,>=3.0 in /usr/local/lib/python3.9/dist-packages (from cohere->-r ./requirements.txt (line 6)) (3.9.3)\n",
      "Requirement already satisfied: backoff<3.0,>=2.0 in /usr/local/lib/python3.9/dist-packages (from cohere->-r ./requirements.txt (line 6)) (2.2.1)\n",
      "Requirement already satisfied: async-timeout<5.0,>=4.0 in /usr/local/lib/python3.9/dist-packages (from aiohttp<4.0,>=3.0->cohere->-r ./requirements.txt (line 6)) (4.0.2)\n",
      "Requirement already satisfied: yarl<2.0,>=1.0 in /usr/local/lib/python3.9/dist-packages (from aiohttp<4.0,>=3.0->cohere->-r ./requirements.txt (line 6)) (1.8.1)\n",
      "Requirement already satisfied: multidict<7.0,>=4.5 in /usr/local/lib/python3.9/dist-packages (from aiohttp<4.0,>=3.0->cohere->-r ./requirements.txt (line 6)) (6.0.2)\n",
      "Requirement already satisfied: aiosignal>=1.1.2 in /usr/local/lib/python3.9/dist-packages (from aiohttp<4.0,>=3.0->cohere->-r ./requirements.txt (line 6)) (1.2.0)\n",
      "Requirement already satisfied: frozenlist>=1.1.1 in /usr/local/lib/python3.9/dist-packages (from aiohttp<4.0,>=3.0->cohere->-r ./requirements.txt (line 6)) (1.3.1)\n",
      "Requirement already satisfied: attrs>=17.3.0 in /usr/local/lib/python3.9/dist-packages (from aiohttp<4.0,>=3.0->cohere->-r ./requirements.txt (line 6)) (23.2.0)\n",
      "Requirement already satisfied: zipp>=0.5 in /usr/local/lib/python3.9/dist-packages (from importlib_metadata<7.0,>=6.0->cohere->-r ./requirements.txt (line 6)) (3.17.0)\n",
      "Requirement already satisfied: charset-normalizer<4,>=2 in /usr/local/lib/python3.9/dist-packages (from requests<3.0.0,>=2.25.0->cohere->-r ./requirements.txt (line 6)) (2.1.1)\n",
      "Requirement already satisfied: idna<4,>=2.5 in /usr/lib/python3/dist-packages (from requests<3.0.0,>=2.25.0->cohere->-r ./requirements.txt (line 6)) (2.10)\n",
      "Requirement already satisfied: certifi>=2017.4.17 in /usr/local/lib/python3.9/dist-packages (from requests<3.0.0,>=2.25.0->cohere->-r ./requirements.txt (line 6)) (2022.9.24)\n",
      "Requirement already satisfied: tornado>=6.2.0 in /usr/local/lib/python3.9/dist-packages (from jupyterlab->-r ./requirements.txt (line 10)) (6.4)\n",
      "Requirement already satisfied: jupyter-lsp>=2.0.0 in /usr/local/lib/python3.9/dist-packages (from jupyterlab->-r ./requirements.txt (line 10)) (2.2.4)\n",
      "Requirement already satisfied: httpx>=0.25.0 in /usr/local/lib/python3.9/dist-packages (from jupyterlab->-r ./requirements.txt (line 10)) (0.27.0)\n",
      "Requirement already satisfied: jupyterlab-server<3,>=2.19.0 in /usr/local/lib/python3.9/dist-packages (from jupyterlab->-r ./requirements.txt (line 10)) (2.25.3)\n",
      "Requirement already satisfied: traitlets in /usr/local/lib/python3.9/dist-packages (from jupyterlab->-r ./requirements.txt (line 10)) (5.14.1)\n",
      "Requirement already satisfied: ipykernel in /usr/local/lib/python3.9/dist-packages (from jupyterlab->-r ./requirements.txt (line 10)) (6.29.3)\n",
      "Requirement already satisfied: packaging in /usr/local/lib/python3.9/dist-packages (from jupyterlab->-r ./requirements.txt (line 10)) (23.2)\n",
      "Requirement already satisfied: jupyter-core in /usr/local/lib/python3.9/dist-packages (from jupyterlab->-r ./requirements.txt (line 10)) (5.7.1)\n",
      "Requirement already satisfied: async-lru>=1.0.0 in /usr/local/lib/python3.9/dist-packages (from jupyterlab->-r ./requirements.txt (line 10)) (2.0.4)\n",
      "Requirement already satisfied: notebook-shim>=0.2 in /usr/local/lib/python3.9/dist-packages (from jupyterlab->-r ./requirements.txt (line 10)) (0.2.4)\n",
      "Requirement already satisfied: tomli in /usr/local/lib/python3.9/dist-packages (from jupyterlab->-r ./requirements.txt (line 10)) (2.0.1)\n",
      "Requirement already satisfied: jupyter-server<3,>=2.4.0 in /usr/local/lib/python3.9/dist-packages (from jupyterlab->-r ./requirements.txt (line 10)) (2.13.0)\n",
      "Requirement already satisfied: jinja2>=3.0.3 in /usr/local/lib/python3.9/dist-packages (from jupyterlab->-r ./requirements.txt (line 10)) (3.1.3)\n",
      "Requirement already satisfied: typing-extensions>=4.0.0 in /usr/local/lib/python3.9/dist-packages (from async-lru>=1.0.0->jupyterlab->-r ./requirements.txt (line 10)) (4.10.0)\n",
      "Requirement already satisfied: httpcore==1.* in /usr/local/lib/python3.9/dist-packages (from httpx>=0.25.0->jupyterlab->-r ./requirements.txt (line 10)) (1.0.4)\n",
      "Requirement already satisfied: sniffio in /usr/local/lib/python3.9/dist-packages (from httpx>=0.25.0->jupyterlab->-r ./requirements.txt (line 10)) (1.3.0)\n",
      "Requirement already satisfied: anyio in /usr/local/lib/python3.9/dist-packages (from httpx>=0.25.0->jupyterlab->-r ./requirements.txt (line 10)) (3.6.1)\n",
      "Requirement already satisfied: h11<0.15,>=0.13 in /usr/local/lib/python3.9/dist-packages (from httpcore==1.*->httpx>=0.25.0->jupyterlab->-r ./requirements.txt (line 10)) (0.14.0)\n",
      "Requirement already satisfied: MarkupSafe>=2.0 in /usr/local/lib/python3.9/dist-packages (from jinja2>=3.0.3->jupyterlab->-r ./requirements.txt (line 10)) (2.1.5)\n",
      "Requirement already satisfied: websocket-client in /usr/local/lib/python3.9/dist-packages (from jupyter-server<3,>=2.4.0->jupyterlab->-r ./requirements.txt (line 10)) (1.7.0)\n",
      "Requirement already satisfied: jupyter-events>=0.9.0 in /usr/local/lib/python3.9/dist-packages (from jupyter-server<3,>=2.4.0->jupyterlab->-r ./requirements.txt (line 10)) (0.9.0)\n",
      "Requirement already satisfied: argon2-cffi in /usr/local/lib/python3.9/dist-packages (from jupyter-server<3,>=2.4.0->jupyterlab->-r ./requirements.txt (line 10)) (23.1.0)\n",
      "Requirement already satisfied: nbconvert>=6.4.4 in /usr/local/lib/python3.9/dist-packages (from jupyter-server<3,>=2.4.0->jupyterlab->-r ./requirements.txt (line 10)) (7.16.2)\n",
      "Requirement already satisfied: pyzmq>=24 in /usr/local/lib/python3.9/dist-packages (from jupyter-server<3,>=2.4.0->jupyterlab->-r ./requirements.txt (line 10)) (25.1.2)\n",
      "Requirement already satisfied: send2trash>=1.8.2 in /usr/local/lib/python3.9/dist-packages (from jupyter-server<3,>=2.4.0->jupyterlab->-r ./requirements.txt (line 10)) (1.8.2)\n",
      "Requirement already satisfied: jupyter-client>=7.4.4 in /usr/local/lib/python3.9/dist-packages (from jupyter-server<3,>=2.4.0->jupyterlab->-r ./requirements.txt (line 10)) (8.6.0)\n",
      "Requirement already satisfied: terminado>=0.8.3 in /usr/local/lib/python3.9/dist-packages (from jupyter-server<3,>=2.4.0->jupyterlab->-r ./requirements.txt (line 10)) (0.18.0)\n",
      "Requirement already satisfied: overrides in /usr/local/lib/python3.9/dist-packages (from jupyter-server<3,>=2.4.0->jupyterlab->-r ./requirements.txt (line 10)) (7.7.0)\n",
      "Requirement already satisfied: jupyter-server-terminals in /usr/local/lib/python3.9/dist-packages (from jupyter-server<3,>=2.4.0->jupyterlab->-r ./requirements.txt (line 10)) (0.5.2)\n",
      "Requirement already satisfied: nbformat>=5.3.0 in /usr/local/lib/python3.9/dist-packages (from jupyter-server<3,>=2.4.0->jupyterlab->-r ./requirements.txt (line 10)) (5.9.2)\n",
      "Requirement already satisfied: prometheus-client in /usr/local/lib/python3.9/dist-packages (from jupyter-server<3,>=2.4.0->jupyterlab->-r ./requirements.txt (line 10)) (0.20.0)\n",
      "Requirement already satisfied: python-dateutil>=2.8.2 in /usr/local/lib/python3.9/dist-packages (from jupyter-client>=7.4.4->jupyter-server<3,>=2.4.0->jupyterlab->-r ./requirements.txt (line 10)) (2.8.2)\n",
      "Requirement already satisfied: platformdirs>=2.5 in /usr/local/lib/python3.9/dist-packages (from jupyter-core->jupyterlab->-r ./requirements.txt (line 10)) (4.2.0)\n",
      "Requirement already satisfied: rfc3339-validator in /usr/local/lib/python3.9/dist-packages (from jupyter-events>=0.9.0->jupyter-server<3,>=2.4.0->jupyterlab->-r ./requirements.txt (line 10)) (0.1.4)\n",
      "Requirement already satisfied: rfc3986-validator>=0.1.1 in /usr/local/lib/python3.9/dist-packages (from jupyter-events>=0.9.0->jupyter-server<3,>=2.4.0->jupyterlab->-r ./requirements.txt (line 10)) (0.1.1)\n",
      "Requirement already satisfied: jsonschema[format-nongpl]>=4.18.0 in /usr/local/lib/python3.9/dist-packages (from jupyter-events>=0.9.0->jupyter-server<3,>=2.4.0->jupyterlab->-r ./requirements.txt (line 10)) (4.21.1)\n",
      "Requirement already satisfied: python-json-logger>=2.0.4 in /usr/local/lib/python3.9/dist-packages (from jupyter-events>=0.9.0->jupyter-server<3,>=2.4.0->jupyterlab->-r ./requirements.txt (line 10)) (2.0.7)\n",
      "Requirement already satisfied: pyyaml>=5.3 in /usr/local/lib/python3.9/dist-packages (from jupyter-events>=0.9.0->jupyter-server<3,>=2.4.0->jupyterlab->-r ./requirements.txt (line 10)) (6.0.1)\n",
      "Requirement already satisfied: referencing in /usr/local/lib/python3.9/dist-packages (from jupyter-events>=0.9.0->jupyter-server<3,>=2.4.0->jupyterlab->-r ./requirements.txt (line 10)) (0.33.0)\n",
      "Requirement already satisfied: rpds-py>=0.7.1 in /usr/local/lib/python3.9/dist-packages (from jsonschema[format-nongpl]>=4.18.0->jupyter-events>=0.9.0->jupyter-server<3,>=2.4.0->jupyterlab->-r ./requirements.txt (line 10)) (0.18.0)\n",
      "Requirement already satisfied: jsonschema-specifications>=2023.03.6 in /usr/local/lib/python3.9/dist-packages (from jsonschema[format-nongpl]>=4.18.0->jupyter-events>=0.9.0->jupyter-server<3,>=2.4.0->jupyterlab->-r ./requirements.txt (line 10)) (2023.12.1)\n",
      "Requirement already satisfied: fqdn in /usr/local/lib/python3.9/dist-packages (from jsonschema[format-nongpl]>=4.18.0->jupyter-events>=0.9.0->jupyter-server<3,>=2.4.0->jupyterlab->-r ./requirements.txt (line 10)) (1.5.1)\n",
      "Requirement already satisfied: webcolors>=1.11 in /usr/local/lib/python3.9/dist-packages (from jsonschema[format-nongpl]>=4.18.0->jupyter-events>=0.9.0->jupyter-server<3,>=2.4.0->jupyterlab->-r ./requirements.txt (line 10)) (1.13)\n",
      "Requirement already satisfied: uri-template in /usr/local/lib/python3.9/dist-packages (from jsonschema[format-nongpl]>=4.18.0->jupyter-events>=0.9.0->jupyter-server<3,>=2.4.0->jupyterlab->-r ./requirements.txt (line 10)) (1.3.0)\n",
      "Requirement already satisfied: isoduration in /usr/local/lib/python3.9/dist-packages (from jsonschema[format-nongpl]>=4.18.0->jupyter-events>=0.9.0->jupyter-server<3,>=2.4.0->jupyterlab->-r ./requirements.txt (line 10)) (20.11.0)\n",
      "Requirement already satisfied: jsonpointer>1.13 in /usr/local/lib/python3.9/dist-packages (from jsonschema[format-nongpl]>=4.18.0->jupyter-events>=0.9.0->jupyter-server<3,>=2.4.0->jupyterlab->-r ./requirements.txt (line 10)) (2.4)\n",
      "Requirement already satisfied: babel>=2.10 in /usr/local/lib/python3.9/dist-packages (from jupyterlab-server<3,>=2.19.0->jupyterlab->-r ./requirements.txt (line 10)) (2.14.0)\n",
      "Requirement already satisfied: json5>=0.9.0 in /usr/local/lib/python3.9/dist-packages (from jupyterlab-server<3,>=2.19.0->jupyterlab->-r ./requirements.txt (line 10)) (0.9.20)\n",
      "Requirement already satisfied: pandocfilters>=1.4.1 in /usr/local/lib/python3.9/dist-packages (from nbconvert>=6.4.4->jupyter-server<3,>=2.4.0->jupyterlab->-r ./requirements.txt (line 10)) (1.5.1)\n",
      "Requirement already satisfied: nbclient>=0.5.0 in /usr/local/lib/python3.9/dist-packages (from nbconvert>=6.4.4->jupyter-server<3,>=2.4.0->jupyterlab->-r ./requirements.txt (line 10)) (0.9.0)\n",
      "Requirement already satisfied: pygments>=2.4.1 in /usr/local/lib/python3.9/dist-packages (from nbconvert>=6.4.4->jupyter-server<3,>=2.4.0->jupyterlab->-r ./requirements.txt (line 10)) (2.17.2)\n",
      "Requirement already satisfied: jupyterlab-pygments in /usr/local/lib/python3.9/dist-packages (from nbconvert>=6.4.4->jupyter-server<3,>=2.4.0->jupyterlab->-r ./requirements.txt (line 10)) (0.3.0)\n",
      "Requirement already satisfied: tinycss2 in /usr/lib/python3/dist-packages (from nbconvert>=6.4.4->jupyter-server<3,>=2.4.0->jupyterlab->-r ./requirements.txt (line 10)) (1.0.2)\n",
      "Requirement already satisfied: bleach!=5.0.0 in /usr/local/lib/python3.9/dist-packages (from nbconvert>=6.4.4->jupyter-server<3,>=2.4.0->jupyterlab->-r ./requirements.txt (line 10)) (6.1.0)\n",
      "Requirement already satisfied: mistune<4,>=2.0.3 in /usr/local/lib/python3.9/dist-packages (from nbconvert>=6.4.4->jupyter-server<3,>=2.4.0->jupyterlab->-r ./requirements.txt (line 10)) (3.0.2)\n",
      "Requirement already satisfied: beautifulsoup4 in /usr/lib/python3/dist-packages (from nbconvert>=6.4.4->jupyter-server<3,>=2.4.0->jupyterlab->-r ./requirements.txt (line 10)) (4.9.3)\n",
      "Requirement already satisfied: defusedxml in /usr/local/lib/python3.9/dist-packages (from nbconvert>=6.4.4->jupyter-server<3,>=2.4.0->jupyterlab->-r ./requirements.txt (line 10)) (0.7.1)\n",
      "Requirement already satisfied: six>=1.9.0 in /usr/lib/python3/dist-packages (from bleach!=5.0.0->nbconvert>=6.4.4->jupyter-server<3,>=2.4.0->jupyterlab->-r ./requirements.txt (line 10)) (1.16.0)\n",
      "Requirement already satisfied: webencodings in /usr/lib/python3/dist-packages (from bleach!=5.0.0->nbconvert>=6.4.4->jupyter-server<3,>=2.4.0->jupyterlab->-r ./requirements.txt (line 10)) (0.5.1)\n",
      "Requirement already satisfied: fastjsonschema in /usr/local/lib/python3.9/dist-packages (from nbformat>=5.3.0->jupyter-server<3,>=2.4.0->jupyterlab->-r ./requirements.txt (line 10)) (2.19.1)\n",
      "Requirement already satisfied: ptyprocess in /usr/local/lib/python3.9/dist-packages (from terminado>=0.8.3->jupyter-server<3,>=2.4.0->jupyterlab->-r ./requirements.txt (line 10)) (0.7.0)\n",
      "Requirement already satisfied: numpy<2,>=1 in /home/aleqs/.local/lib/python3.9/site-packages (from langchain->-r ./requirements.txt (line 2)) (1.25.2)\n",
      "Requirement already satisfied: dataclasses-json<0.7,>=0.5.7 in /usr/local/lib/python3.9/dist-packages (from langchain->-r ./requirements.txt (line 2)) (0.6.4)\n",
      "Requirement already satisfied: jsonpatch<2.0,>=1.33 in /usr/local/lib/python3.9/dist-packages (from langchain->-r ./requirements.txt (line 2)) (1.33)\n",
      "Requirement already satisfied: langchain-community<0.1,>=0.0.25 in /usr/local/lib/python3.9/dist-packages (from langchain->-r ./requirements.txt (line 2)) (0.0.25)\n",
      "Requirement already satisfied: pydantic<3,>=1 in /usr/local/lib/python3.9/dist-packages (from langchain->-r ./requirements.txt (line 2)) (2.6.3)\n",
      "Requirement already satisfied: tenacity<9.0.0,>=8.1.0 in /usr/local/lib/python3.9/dist-packages (from langchain->-r ./requirements.txt (line 2)) (8.2.3)\n",
      "Requirement already satisfied: langsmith<0.2.0,>=0.1.17 in /usr/local/lib/python3.9/dist-packages (from langchain->-r ./requirements.txt (line 2)) (0.1.20)\n",
      "Requirement already satisfied: SQLAlchemy<3,>=1.4 in /usr/local/lib/python3.9/dist-packages (from langchain->-r ./requirements.txt (line 2)) (2.0.28)\n",
      "Requirement already satisfied: langchain-text-splitters<0.1,>=0.0.1 in /usr/local/lib/python3.9/dist-packages (from langchain->-r ./requirements.txt (line 2)) (0.0.1)\n",
      "Requirement already satisfied: marshmallow<4.0.0,>=3.18.0 in /usr/local/lib/python3.9/dist-packages (from dataclasses-json<0.7,>=0.5.7->langchain->-r ./requirements.txt (line 2)) (3.21.1)\n",
      "Requirement already satisfied: typing-inspect<1,>=0.4.0 in /usr/local/lib/python3.9/dist-packages (from dataclasses-json<0.7,>=0.5.7->langchain->-r ./requirements.txt (line 2)) (0.9.0)\n",
      "Requirement already satisfied: orjson<4.0.0,>=3.9.14 in /usr/local/lib/python3.9/dist-packages (from langsmith<0.2.0,>=0.1.17->langchain->-r ./requirements.txt (line 2)) (3.9.15)\n",
      "Requirement already satisfied: annotated-types>=0.4.0 in /usr/local/lib/python3.9/dist-packages (from pydantic<3,>=1->langchain->-r ./requirements.txt (line 2)) (0.6.0)\n",
      "Requirement already satisfied: pydantic-core==2.16.3 in /usr/local/lib/python3.9/dist-packages (from pydantic<3,>=1->langchain->-r ./requirements.txt (line 2)) (2.16.3)\n",
      "Requirement already satisfied: greenlet!=0.4.17 in /usr/local/lib/python3.9/dist-packages (from SQLAlchemy<3,>=1.4->langchain->-r ./requirements.txt (line 2)) (3.0.3)\n",
      "Requirement already satisfied: mypy-extensions>=0.3.0 in /usr/local/lib/python3.9/dist-packages (from typing-inspect<1,>=0.4.0->dataclasses-json<0.7,>=0.5.7->langchain->-r ./requirements.txt (line 2)) (1.0.0)\n",
      "Requirement already satisfied: tqdm>=4.64.1 in /usr/local/lib/python3.9/dist-packages (from pinecone-client->-r ./requirements.txt (line 5)) (4.66.2)\n",
      "Requirement already satisfied: nvidia-nccl-cu12==2.19.3 in /usr/local/lib/python3.9/dist-packages (from torch->-r ./requirements.txt (line 9)) (2.19.3)\n",
      "Requirement already satisfied: filelock in /usr/local/lib/python3.9/dist-packages (from torch->-r ./requirements.txt (line 9)) (3.13.1)\n",
      "Requirement already satisfied: nvidia-cuda-runtime-cu12==12.1.105 in /usr/local/lib/python3.9/dist-packages (from torch->-r ./requirements.txt (line 9)) (12.1.105)\n",
      "Requirement already satisfied: nvidia-cuda-cupti-cu12==12.1.105 in /usr/local/lib/python3.9/dist-packages (from torch->-r ./requirements.txt (line 9)) (12.1.105)\n",
      "Requirement already satisfied: nvidia-cudnn-cu12==8.9.2.26 in /usr/local/lib/python3.9/dist-packages (from torch->-r ./requirements.txt (line 9)) (8.9.2.26)\n",
      "Requirement already satisfied: networkx in /usr/local/lib/python3.9/dist-packages (from torch->-r ./requirements.txt (line 9)) (3.2.1)\n",
      "Requirement already satisfied: nvidia-cusolver-cu12==11.4.5.107 in /usr/local/lib/python3.9/dist-packages (from torch->-r ./requirements.txt (line 9)) (11.4.5.107)\n",
      "Requirement already satisfied: nvidia-cusparse-cu12==12.1.0.106 in /usr/local/lib/python3.9/dist-packages (from torch->-r ./requirements.txt (line 9)) (12.1.0.106)\n",
      "Requirement already satisfied: nvidia-nvtx-cu12==12.1.105 in /usr/local/lib/python3.9/dist-packages (from torch->-r ./requirements.txt (line 9)) (12.1.105)\n",
      "Requirement already satisfied: fsspec in /usr/local/lib/python3.9/dist-packages (from torch->-r ./requirements.txt (line 9)) (2024.2.0)\n",
      "Requirement already satisfied: sympy in /usr/local/lib/python3.9/dist-packages (from torch->-r ./requirements.txt (line 9)) (1.12)\n",
      "Requirement already satisfied: nvidia-cufft-cu12==11.0.2.54 in /usr/local/lib/python3.9/dist-packages (from torch->-r ./requirements.txt (line 9)) (11.0.2.54)\n",
      "Requirement already satisfied: nvidia-curand-cu12==10.3.2.106 in /usr/local/lib/python3.9/dist-packages (from torch->-r ./requirements.txt (line 9)) (10.3.2.106)\n",
      "Requirement already satisfied: triton==2.2.0 in /usr/local/lib/python3.9/dist-packages (from torch->-r ./requirements.txt (line 9)) (2.2.0)\n",
      "Requirement already satisfied: nvidia-cublas-cu12==12.1.3.1 in /usr/local/lib/python3.9/dist-packages (from torch->-r ./requirements.txt (line 9)) (12.1.3.1)\n",
      "Requirement already satisfied: nvidia-cuda-nvrtc-cu12==12.1.105 in /usr/local/lib/python3.9/dist-packages (from torch->-r ./requirements.txt (line 9)) (12.1.105)\n",
      "Requirement already satisfied: nvidia-nvjitlink-cu12 in /usr/local/lib/python3.9/dist-packages (from nvidia-cusolver-cu12==11.4.5.107->torch->-r ./requirements.txt (line 9)) (12.3.101)\n",
      "Requirement already satisfied: huggingface-hub<1.0,>=0.19.3 in /usr/local/lib/python3.9/dist-packages (from transformers->-r ./requirements.txt (line 7)) (0.21.3)\n",
      "Requirement already satisfied: safetensors>=0.4.1 in /usr/local/lib/python3.9/dist-packages (from transformers->-r ./requirements.txt (line 7)) (0.4.2)\n",
      "Requirement already satisfied: regex!=2019.12.17 in /usr/local/lib/python3.9/dist-packages (from transformers->-r ./requirements.txt (line 7)) (2023.12.25)\n",
      "Requirement already satisfied: tokenizers<0.19,>=0.14 in /usr/local/lib/python3.9/dist-packages (from transformers->-r ./requirements.txt (line 7)) (0.15.2)\n",
      "Requirement already satisfied: argon2-cffi-bindings in /usr/local/lib/python3.9/dist-packages (from argon2-cffi->jupyter-server<3,>=2.4.0->jupyterlab->-r ./requirements.txt (line 10)) (21.2.0)\n",
      "Requirement already satisfied: cffi>=1.0.1 in /usr/local/lib/python3.9/dist-packages (from argon2-cffi-bindings->argon2-cffi->jupyter-server<3,>=2.4.0->jupyterlab->-r ./requirements.txt (line 10)) (1.15.1)\n",
      "Requirement already satisfied: pycparser in /usr/local/lib/python3.9/dist-packages (from cffi>=1.0.1->argon2-cffi-bindings->argon2-cffi->jupyter-server<3,>=2.4.0->jupyterlab->-r ./requirements.txt (line 10)) (2.21)\n",
      "Requirement already satisfied: soupsieve>1.2 in /usr/lib/python3/dist-packages (from beautifulsoup4->nbconvert>=6.4.4->jupyter-server<3,>=2.4.0->jupyterlab->-r ./requirements.txt (line 10)) (2.2.1)\n",
      "Requirement already satisfied: matplotlib-inline>=0.1 in /usr/local/lib/python3.9/dist-packages (from ipykernel->jupyterlab->-r ./requirements.txt (line 10)) (0.1.6)\n",
      "Requirement already satisfied: comm>=0.1.1 in /usr/local/lib/python3.9/dist-packages (from ipykernel->jupyterlab->-r ./requirements.txt (line 10)) (0.2.1)\n",
      "Requirement already satisfied: ipython>=7.23.1 in /usr/local/lib/python3.9/dist-packages (from ipykernel->jupyterlab->-r ./requirements.txt (line 10)) (8.18.1)\n",
      "Requirement already satisfied: nest-asyncio in /usr/local/lib/python3.9/dist-packages (from ipykernel->jupyterlab->-r ./requirements.txt (line 10)) (1.6.0)\n",
      "Requirement already satisfied: psutil in /usr/lib/python3/dist-packages (from ipykernel->jupyterlab->-r ./requirements.txt (line 10)) (5.8.0)\n",
      "Requirement already satisfied: debugpy>=1.6.5 in /usr/local/lib/python3.9/dist-packages (from ipykernel->jupyterlab->-r ./requirements.txt (line 10)) (1.8.1)\n",
      "Requirement already satisfied: stack-data in /usr/local/lib/python3.9/dist-packages (from ipython>=7.23.1->ipykernel->jupyterlab->-r ./requirements.txt (line 10)) (0.6.3)\n",
      "Requirement already satisfied: exceptiongroup in /usr/local/lib/python3.9/dist-packages (from ipython>=7.23.1->ipykernel->jupyterlab->-r ./requirements.txt (line 10)) (1.0.0rc9)\n",
      "Requirement already satisfied: jedi>=0.16 in /usr/local/lib/python3.9/dist-packages (from ipython>=7.23.1->ipykernel->jupyterlab->-r ./requirements.txt (line 10)) (0.19.1)\n",
      "Requirement already satisfied: pexpect>4.3 in /usr/lib/python3/dist-packages (from ipython>=7.23.1->ipykernel->jupyterlab->-r ./requirements.txt (line 10)) (4.8.0)\n",
      "Requirement already satisfied: decorator in /usr/local/lib/python3.9/dist-packages (from ipython>=7.23.1->ipykernel->jupyterlab->-r ./requirements.txt (line 10)) (5.1.1)\n",
      "Requirement already satisfied: prompt-toolkit<3.1.0,>=3.0.41 in /usr/local/lib/python3.9/dist-packages (from ipython>=7.23.1->ipykernel->jupyterlab->-r ./requirements.txt (line 10)) (3.0.43)\n",
      "Requirement already satisfied: parso<0.9.0,>=0.8.3 in /usr/local/lib/python3.9/dist-packages (from jedi>=0.16->ipython>=7.23.1->ipykernel->jupyterlab->-r ./requirements.txt (line 10)) (0.8.3)\n",
      "Requirement already satisfied: wcwidth in /usr/local/lib/python3.9/dist-packages (from prompt-toolkit<3.1.0,>=3.0.41->ipython>=7.23.1->ipykernel->jupyterlab->-r ./requirements.txt (line 10)) (0.2.5)\n",
      "Requirement already satisfied: arrow>=0.15.0 in /usr/local/lib/python3.9/dist-packages (from isoduration->jsonschema[format-nongpl]>=4.18.0->jupyter-events>=0.9.0->jupyter-server<3,>=2.4.0->jupyterlab->-r ./requirements.txt (line 10)) (1.3.0)\n",
      "Requirement already satisfied: types-python-dateutil>=2.8.10 in /usr/local/lib/python3.9/dist-packages (from arrow>=0.15.0->isoduration->jsonschema[format-nongpl]>=4.18.0->jupyter-events>=0.9.0->jupyter-server<3,>=2.4.0->jupyterlab->-r ./requirements.txt (line 10)) (2.8.19.20240106)\n",
      "Requirement already satisfied: executing>=1.2.0 in /usr/local/lib/python3.9/dist-packages (from stack-data->ipython>=7.23.1->ipykernel->jupyterlab->-r ./requirements.txt (line 10)) (2.0.1)\n",
      "Requirement already satisfied: pure-eval in /usr/local/lib/python3.9/dist-packages (from stack-data->ipython>=7.23.1->ipykernel->jupyterlab->-r ./requirements.txt (line 10)) (0.2.2)\n",
      "Requirement already satisfied: asttokens>=2.1.0 in /usr/local/lib/python3.9/dist-packages (from stack-data->ipython>=7.23.1->ipykernel->jupyterlab->-r ./requirements.txt (line 10)) (2.4.1)\n",
      "Requirement already satisfied: mpmath>=0.19 in /usr/local/lib/python3.9/dist-packages (from sympy->torch->-r ./requirements.txt (line 9)) (1.3.0)\n",
      "Note: you may need to restart the kernel to use updated packages.\n"
     ]
    }
   ],
   "source": [
    "pip install -r ./requirements.txt"
   ]
  },
  {
   "cell_type": "markdown",
   "id": "3534918b-a514-4df1-b7eb-21e5f9f94d11",
   "metadata": {},
   "source": [
    "### Verify if LangChain is installed"
   ]
  },
  {
   "cell_type": "code",
   "execution_count": 2,
   "id": "bdf2f431",
   "metadata": {
    "colab": {
     "base_uri": "https://localhost:8080/"
    },
    "executionInfo": {
     "elapsed": 4913,
     "status": "ok",
     "timestamp": 1695281268475,
     "user": {
      "displayName": "Andrei Dumitrescu",
      "userId": "04285534149796751164"
     },
     "user_tz": -180
    },
    "id": "bdf2f431",
    "outputId": "01809e7f-0539-4eae-b6af-19117ab595eb",
    "scrolled": true
   },
   "outputs": [
    {
     "name": "stdout",
     "output_type": "stream",
     "text": [
      "Name: langchain\n",
      "Version: 0.1.11\n",
      "Summary: Building applications with LLMs through composability\n",
      "Home-page: https://github.com/langchain-ai/langchain\n",
      "Author: None\n",
      "Author-email: None\n",
      "License: MIT\n",
      "Location: /usr/local/lib/python3.9/dist-packages\n",
      "Requires: pydantic, async-timeout, tenacity, dataclasses-json, jsonpatch, langchain-community, langchain-text-splitters, aiohttp, requests, langchain-core, PyYAML, numpy, SQLAlchemy, langsmith\n",
      "Required-by: langchain-experimental\n",
      "Note: you may need to restart the kernel to use updated packages.\n"
     ]
    }
   ],
   "source": [
    "pip show langchain"
   ]
  },
  {
   "cell_type": "markdown",
   "id": "f4407a3a",
   "metadata": {
    "id": "f4407a3a"
   },
   "source": [
    "#### Python-dotenv"
   ]
  },
  {
   "cell_type": "code",
   "execution_count": 3,
   "id": "d9420415",
   "metadata": {
    "id": "d9420415",
    "outputId": "0e64cc2d-6d74-41b7-a8c2-b311e2b72ebc",
    "scrolled": true
   },
   "outputs": [
    {
     "name": "stdout",
     "output_type": "stream",
     "text": [
      "rkLOCGr9pccllML3XGX32uAlrO0s58Pw1ldYtDmi\n"
     ]
    }
   ],
   "source": [
    "import os\n",
    "from dotenv import load_dotenv, find_dotenv\n",
    "\n",
    "# loading the API Keys (Cohere, Pinecone) from .env \n",
    "load_dotenv(find_dotenv(), override=True)\n",
    "\n",
    "COHERE_API_KEY = os.environ.get('COHERE_API_KEY')\n",
    "print(COHERE_API_KEY)"
   ]
  },
  {
   "cell_type": "markdown",
   "id": "46e63e31-28ad-4d89-866f-238f818c4315",
   "metadata": {},
   "source": [
    "## Early Experimentation with LLMs Using LangChain "
   ]
  },
  {
   "cell_type": "markdown",
   "id": "975fc78c-0143-4c44-91a9-d89c609f484d",
   "metadata": {},
   "source": [
    "### Introduction\n",
    "\n",
    "LangChain is a framework for developing applications powered by language models. It enables applications that:\n",
    "\n",
    "- Are context-aware: connect a language model to sources of context (prompt instructions, few shot examples, content to ground its response in, etc.)\n",
    "\n",
    "- Reason: rely on a language model to reason (about how to answer based on provided context, what actions to take, etc.)"
   ]
  },
  {
   "cell_type": "markdown",
   "id": "e29231e2",
   "metadata": {
    "id": "e29231e2"
   },
   "source": [
    "### LLM Models (Wrappers): Cohere\n",
    "\n",
    "https://python.langchain.com/docs/integrations/llms/cohere\n",
    "\n",
    "Cohere is a Canadian startup that provides natural language processing models that help companies improve human-machine interactions.\n",
    "\n",
    "- Founded in 2020\n",
    "- Based in Toronto, Canada "
   ]
  },
  {
   "cell_type": "markdown",
   "id": "869d5b42-233d-45af-95c5-e2c0413b4015",
   "metadata": {},
   "source": [
    "#### Setting up the LLM"
   ]
  },
  {
   "cell_type": "code",
   "execution_count": 4,
   "id": "8d37cc56",
   "metadata": {
    "id": "8d37cc56",
    "outputId": "0ce7f40e-3a0b-48f7-9bad-fd5b4fc91abe"
   },
   "outputs": [
    {
     "name": "stdout",
     "output_type": "stream",
     "text": [
      "\u001b[1mCohere\u001b[0m\n",
      "Params: {'model': None, 'max_tokens': 512, 'temperature': 0.7, 'k': 0, 'p': 1, 'frequency_penalty': 0.0, 'presence_penalty': 0.0, 'truncate': None}\n"
     ]
    }
   ],
   "source": [
    "from langchain.llms import Cohere\n",
    "\n",
    "# Create Cohere LLM instance with parameters\n",
    "llm = Cohere(\n",
    "            # A non-negative float that tunes the degree of randomness in generation.\n",
    "            # Higher values give more diverse, creative responses\n",
    "            # Lower values give more focused, deterministic responses\n",
    "            temperature=0.7, \n",
    "            # The maximum number of tokens to generate in the response\n",
    "            max_tokens=512, \n",
    "            cohere_api_key=COHERE_API_KEY)\n",
    "print(llm)"
   ]
  },
  {
   "cell_type": "markdown",
   "id": "2538e0f1-f723-439d-82ce-fb9908cda59e",
   "metadata": {},
   "source": [
    "#### First try - test Cohere"
   ]
  },
  {
   "cell_type": "code",
   "execution_count": 5,
   "id": "5d355809",
   "metadata": {
    "id": "5d355809",
    "outputId": "d4362c8b-be35-43e2-81f9-8dfd9f4711b6"
   },
   "outputs": [
    {
     "name": "stdout",
     "output_type": "stream",
     "text": [
      " 5G networks deliver faster speeds and lower latency through advanced wireless communication technologies, enabling a new era of internet connectivity with unprecedented capabilities for smartphones and other devices. \n"
     ]
    }
   ],
   "source": [
    "# Generate response from LLM by invoking it \n",
    "output = llm.invoke('explain 5G networks in one sentence')\n",
    "print(output)"
   ]
  },
  {
   "cell_type": "code",
   "execution_count": 6,
   "id": "e29c5e84",
   "metadata": {
    "id": "e29c5e84",
    "outputId": "4029edf6-7c35-4a06-dda7-e6093f356929"
   },
   "outputs": [
    {
     "name": "stderr",
     "output_type": "stream",
     "text": [
      "/usr/local/lib/python3.9/dist-packages/tqdm/auto.py:21: TqdmWarning: IProgress not found. Please update jupyter and ipywidgets. See https://ipywidgets.readthedocs.io/en/stable/user_install.html\n",
      "  from .autonotebook import tqdm as notebook_tqdm\n"
     ]
    },
    {
     "name": "stdout",
     "output_type": "stream",
     "text": [
      "8\n"
     ]
    }
   ],
   "source": [
    "# Pass prompt to LLM's get_num_tokens method\n",
    "num_tokens = llm.get_num_tokens('explain 5G networks in one sentence')\n",
    "\n",
    "# Print number of tokens in the tokenized prompt.\n",
    "print(num_tokens)"
   ]
  },
  {
   "cell_type": "code",
   "execution_count": 7,
   "id": "b98fd88a",
   "metadata": {
    "id": "b98fd88a",
    "outputId": "9b1d4381-af93-4bf7-98cb-2a992155af78"
   },
   "outputs": [
    {
     "name": "stdout",
     "output_type": "stream",
     "text": [
      "[[Generation(text=\" The European Union (EU) is a political and economic union of 27 countries. It was founded on 1 November 1993, when the Treaty of Maastricht came into effect, though its origins can be traced back to the 1951 Treaty of Paris, which established the European Coal and Steel Community. \\n\\nThe EU has undergone several expansions and reforms since its founding, with new member states joining and the EU's governance structure evolving over time. The most recent expansion was in 2013, when Croatia joined the EU. \\n\\nThe EU has four key pillars: the European Parliament, the Council of the European Union, the European Commission, and the Court of Justice of the European Union. These institutions work together to set policies and make decisions on issues that affect the EU as a whole, such as the single market, trade, agriculture, and environmental protection. \\n\\nThe EU has had a significant impact on the lives of its citizens and its member states, helping to promote peace, stability, and economic prosperity in Europe. It has also played a key role in shaping the global political and economic landscape. \")], [Generation(text=\" The area of a typical room is calculated by multiplying the length of the room by the width of the room. \\n\\nThis formula can be written as:\\n\\nArea of a room = Length (L) × Width (W)\\n\\nFor example, if a room is 10 meters long and 5 meters wide, its area would be 50 square meters (10 x 5). \\n\\nIt's important to note that when calculating the area of a room, you want to measure the lengths and widths that are connected to each other when forming the bounds of the space. It's also important to ensure that you are working with like units of measurement throughout your calculation. \\n\\nIf you are working with irregularly shaped rooms or rooms with unique features, you may need to break down the space into smaller, simpler shapes such as rectangles, triangles, or circles. Then, you can calculate the area of each individual shape and sum them up to find the total area of the room. \\n\\nRemember to accurately measure the dimensions of the room and interpret any unusual aspects of the space when determining your calculations. \")]]\n"
     ]
    }
   ],
   "source": [
    "# Prompt LLM with two questions \n",
    "prompts = ['What is the date of the European Union creation.', \n",
    "           'What is the formula for the area of a room?']\n",
    "\n",
    "# Generate responses to prompts\n",
    "# In this example, we can't use invoke() -> we don't have a single prompt\n",
    "output = llm.generate(prompts)  \n",
    "\n",
    "# Print list of generated responses\n",
    "print(output.generations)"
   ]
  },
  {
   "cell_type": "markdown",
   "id": "8f8339a9-55f8-4c33-807d-cd66bf38882a",
   "metadata": {},
   "source": [
    "#### Example in order to extract the answer of the  first question"
   ]
  },
  {
   "cell_type": "code",
   "execution_count": 8,
   "id": "e0725e38",
   "metadata": {
    "id": "e0725e38",
    "outputId": "cb53ba44-16ef-4011-a757-bd5770cce2cc"
   },
   "outputs": [
    {
     "name": "stdout",
     "output_type": "stream",
     "text": [
      " The European Union (EU) is a political and economic union of 27 countries. It was founded on 1 November 1993, when the Treaty of Maastricht came into effect, though its origins can be traced back to the 1951 Treaty of Paris, which established the European Coal and Steel Community. \n",
      "\n",
      "The EU has undergone several expansions and reforms since its founding, with new member states joining and the EU's governance structure evolving over time. The most recent expansion was in 2013, when Croatia joined the EU. \n",
      "\n",
      "The EU has four key pillars: the European Parliament, the Council of the European Union, the European Commission, and the Court of Justice of the European Union. These institutions work together to set policies and make decisions on issues that affect the EU as a whole, such as the single market, trade, agriculture, and environmental protection. \n",
      "\n",
      "The EU has had a significant impact on the lives of its citizens and its member states, helping to promote peace, stability, and economic prosperity in Europe. It has also played a key role in shaping the global political and economic landscape. \n"
     ]
    }
   ],
   "source": [
    "print(output.generations[0][0].text)"
   ]
  },
  {
   "cell_type": "markdown",
   "id": "4b42ee2d-f74b-40aa-8e42-07d417090f92",
   "metadata": {
    "id": "7703b86d",
    "outputId": "74a7c223-0098-460c-c333-37a5925b42f6"
   },
   "source": [
    "#### understand the difference between invoke() and generate() - check here"
   ]
  },
  {
   "cell_type": "markdown",
   "id": "39444a1c-7fd3-4d7b-bbe4-2f8bbdca259e",
   "metadata": {},
   "source": [
    "https://chat.langchain.com/  \n",
    "https://python.langchain.com/docs/get_started/introduction\n",
    "https://api.python.langchain.com/en/latest/langchain_api_reference.html"
   ]
  },
  {
   "cell_type": "markdown",
   "id": "c20ee709",
   "metadata": {
    "id": "c20ee709"
   },
   "source": [
    "## Deep dive into LangChain "
   ]
  },
  {
   "cell_type": "markdown",
   "id": "6d3ad29b",
   "metadata": {
    "id": "6d3ad29b"
   },
   "source": [
    "### Prompt Templates\n",
    "\n",
    "https://python.langchain.com/docs/modules/model_io/prompts/quick_start"
   ]
  },
  {
   "cell_type": "code",
   "execution_count": 9,
   "id": "612ed8a8",
   "metadata": {
    "id": "612ed8a8",
    "outputId": "7cf93377-faea-47c8-a86e-d23de5591459"
   },
   "outputs": [
    {
     "name": "stdout",
     "output_type": "stream",
     "text": [
      "input_variables=['concept', 'language'] template='You are an experienced mathematician professor.\\nWrite a few sentences about the following mathematical {concept} in {language}.'\n"
     ]
    }
   ],
   "source": [
    "from langchain import PromptTemplate\n",
    "\n",
    "# Define template with input variables in braces\n",
    "template = '''You are an experienced mathematician professor.\n",
    "Write a few sentences about the following mathematical {concept} in {language}.'''\n",
    "\n",
    "# Create PromptTemplate object with input variables\n",
    "prompt = PromptTemplate(\n",
    "    input_variables=['concept', 'language'], # list of input variable names\n",
    "    template=template # template string\n",
    ")\n",
    "\n",
    "print(prompt)"
   ]
  },
  {
   "cell_type": "code",
   "execution_count": 10,
   "id": "b28accc9",
   "metadata": {
    "id": "b28accc9",
    "outputId": "9a33f6f3-5b1c-4688-b5c9-51f1419ce176"
   },
   "outputs": [
    {
     "name": "stdout",
     "output_type": "stream",
     "text": [
      "\u001b[1mCohere\u001b[0m\n",
      "Params: {'model': None, 'max_tokens': 512, 'temperature': 0.7, 'k': 0, 'p': 1, 'frequency_penalty': 0.0, 'presence_penalty': 0.0, 'truncate': None}\n"
     ]
    },
    {
     "name": "stderr",
     "output_type": "stream",
     "text": [
      "/usr/local/lib/python3.9/dist-packages/langchain_core/_api/deprecation.py:117: LangChainDeprecationWarning: The function `__call__` was deprecated in LangChain 0.1.7 and will be removed in 0.2.0. Use invoke instead.\n",
      "  warn_deprecated(\n"
     ]
    },
    {
     "name": "stdout",
     "output_type": "stream",
     "text": [
      " The Pythagorean theorem, a key idea in geometry, states that the square of the hypotenuse's side in a right-angled triangle equals the sum of the squares of the other two sides. The hypotenuse, the side opposite the right angle, is longer than the other two sides, a and b, in a right-angled triangle. The theorem can be mathematically stated as a2 + b2 = c2. \n",
      "\n",
      "The Pythagorean theorem is a fundamental relationship in geometry that has numerous applications in mathematics, science, and engineering. One can determine the length of any side of a right-angled triangle if the lengths of the other two sides are known. It appears frequently in fields such as architecture, engineering, and physics, where calculations involving right-angled triangles are common.\n",
      "\n",
      "The theorem is named after the ancient Greek mathematician Pythagoras, who influenced the evolution of mathematics and philosophy. Despite being named after him, the Pythagorean theorem is believed to have been well known to the Indians and Babylonians before his time. However, Pythagoras is credited with enriching the mathematical implications of this relationship and its application to solve problems involving right-angled triangles. \n",
      "\n",
      "These are just a few interpretations of the Pythagorean theorem in Spanish. \n"
     ]
    }
   ],
   "source": [
    "from langchain.llms import Cohere\n",
    "\n",
    "# Create Cohere LLM instance with parameters\n",
    "llm = Cohere(temperature=0.7, max_tokens=512, cohere_api_key=COHERE_API_KEY)\n",
    "print(llm)\n",
    "\n",
    "# Format prompt template with input values \n",
    "output = llm(prompt.format(concept='Pythagorean theorem', language='Spanish'))\n",
    "print(output)"
   ]
  },
  {
   "cell_type": "markdown",
   "id": "207b22ac-3f0b-4128-8e55-ab5f99359bb9",
   "metadata": {},
   "source": [
    "### Learn about Chains"
   ]
  },
  {
   "cell_type": "markdown",
   "id": "5bfd00f0-afb9-4a64-8788-5d9f0f68306d",
   "metadata": {},
   "source": [
    "Resources :\n",
    "\n",
    "https://python.langchain.com/docs/modules/chains  \n",
    "https://chat.langchain.com/"
   ]
  },
  {
   "cell_type": "markdown",
   "id": "025d9b84",
   "metadata": {
    "id": "025d9b84"
   },
   "source": [
    "#### Simple Chains"
   ]
  },
  {
   "cell_type": "code",
   "execution_count": 11,
   "id": "fd1e5278",
   "metadata": {
    "id": "fd1e5278"
   },
   "outputs": [
    {
     "name": "stdout",
     "output_type": "stream",
     "text": [
      "{'concept': 'Pythagorean theorem', 'language': 'Spanish', 'text': 'El teorema de Pitágoras es un resultado fundamental en geometría euclidiana. Afirma que en un triángulo rectángulo, se cumple que:\\n\\na^2 + b^2 = c^2\\n\\ndonde a y b son los catetos y c es la hipotenusa. Este teorema tiene numerosas aplicaciones en matemáticas y en la vida cotidiana, ya que permite calcular fácilmente lados y ángulos de triángulos rectángulos. Además, ha sido conocido y utilizado por los matemáticos desde la antigüedad.\\n\\nEs una herramienta matemática valiosa y su prueba se basa en simples deducciones geométricas, lo que hace que sea accesible a estudiantes de matemáticas de todos los niveles.'}\n"
     ]
    }
   ],
   "source": [
    "from langchain.chat_models import ChatCohere\n",
    "from langchain import PromptTemplate\n",
    "from langchain.chains import LLMChain\n",
    "\n",
    "# Create ChatCohere LLM instance\n",
    "llm = ChatCohere(temperature=0.5, cohere_api_key=COHERE_API_KEY)\n",
    "\n",
    "# Define template string \n",
    "template = '''You are an experienced mathematician professor.\n",
    "Write a few sentences about the following mathematical {concept} in {language}.'''\n",
    "\n",
    "# Create PromptTemplate \n",
    "prompt = PromptTemplate(\n",
    "    input_variables=['concept', 'language'],\n",
    "    template=template\n",
    ")\n",
    "\n",
    "# Create LLMChain with llm and prompt\n",
    "chain = LLMChain(llm=llm, prompt=prompt)\n",
    "\n",
    "# Run chain with input values\n",
    "output = chain.invoke({'concept': 'Pythagorean theorem', 'language': 'Spanish'})\n",
    "print(output)"
   ]
  },
  {
   "cell_type": "markdown",
   "id": "f283cc13",
   "metadata": {
    "id": "f283cc13"
   },
   "source": [
    "#### Sequential Chains"
   ]
  },
  {
   "cell_type": "code",
   "execution_count": 12,
   "id": "9d68115d",
   "metadata": {
    "id": "9d68115d",
    "outputId": "2aa75fcc-88bb-4972-c9dc-0eec0f0b7d07",
    "scrolled": true
   },
   "outputs": [
    {
     "name": "stdout",
     "output_type": "stream",
     "text": [
      "\n",
      "\n",
      "\u001b[1m> Entering new SimpleSequentialChain chain...\u001b[0m\n"
     ]
    },
    {
     "name": "stderr",
     "output_type": "stream",
     "text": [
      "/usr/local/lib/python3.9/dist-packages/langchain_core/_api/deprecation.py:117: LangChainDeprecationWarning: The function `run` was deprecated in LangChain 0.1.0 and will be removed in 0.2.0. Use invoke instead.\n",
      "  warn_deprecated(\n"
     ]
    },
    {
     "name": "stdout",
     "output_type": "stream",
     "text": [
      "\u001b[36;1m\u001b[1;3m The concept of softmax is a probabilistic interpretation of the exponential function that normalizes the output to ensure probabilities sum to 1. \n",
      "\n",
      "Here's a function that implements the softmax function for a given vector of arbitrary values: \n",
      "```python\n",
      "def softmax(vector):\n",
      "    # Find the maximum value in the vector\n",
      "    max_value = max(vector)\n",
      "\n",
      "    # Calculate the exponential sum\n",
      "    exponential_sum = sum(exp(value - max_value) for value in vector)\n",
      "\n",
      "    # Normalize the vector values\n",
      "    normalized_vector = exponential_sum * vector / max_value\n",
      "    return normalized_vector\n",
      "```\n",
      "This function takes an m-dimensional vector as input, scatters the vector's values along the x-axis, and normalizes the data to generate a curve that sums to 1. \n",
      "\n",
      "The function computes the exponential sum by iterating through the values of the input vector and calculating the exponential difference between each value and the maximum value, subtracting the maximum value from each element and expowing each element. It then normalizes the vector by dividing the exponential sum by the maximum value, multiplying it by the original vector. \n",
      "\n",
      "This approach guarantees that the normalized vector contains values between 0 and 1, representing probabilities. Additionally, the sum of these probabilities will be equal to 1. \n",
      "\n",
      "This function is versatile and accommodates vectors of any size and content, making it suitable for various machine learning applications. \n",
      "\n",
      "I hope this helped you understand the code and the purpose of the softmax function. \n",
      "\n",
      "Let me know if you have any further questions. \u001b[0m\n",
      "\u001b[33;1m\u001b[1;3mThe provided Python function, named `softmax`, serves the purpose of normalizing a given vector to turn its values into probabilities, ensuring that they sum up to 1. This process is known as softmax, a valuable technique in machine learning and computational neuroscience.\n",
      "\n",
      "Let's break down the function and its workings step by step:\n",
      "1. **Input**: The function accepts a single argument, `vector`, which is expected to be a list or array representing an m-dimensional vector of arbitrary values. This vector can vary in terms of length and numerical content.\n",
      "2. **Finding the Maximum**: The first operation within the function is to find the maximum value present in the input vector. This is done using the `max()` function, which returns a single value - the greatest element in the vector. The maximum value is crucial for the subsequent steps.\n",
      "3. **Exponential Sum Calculation**: The function calculates what it calls the \"exponential sum.\" It iterates through each value `value` in the input vector and computes `exp(value - max_value)`. This is a key step in normalizing the data. The `exp()` function is the exponential function, often referred to as `e^x`. Subtracting the maximum value from each element ensures that the exponential function is applied to values that are not too large, which could cause overflow issues. These values are then summed up using the `sum()` function, yielding the exponential sum.\n",
      "4. **Normalization**: In the normalization step, the function multiplies the exponential sum with the original input vector and divides it by the maximum value. This operation scales the vector's values in a way that transforms them into probabilities.\n",
      "5. **Output**: The function returns the normalized vector, which now represents a probability distribution. The values in this vector are constrained between 0 and 1, and the sum of these values equals 1.\n",
      "\n",
      "The softmax function is a crucial component in various machine learning applications, especially in multiclass classification problems. It helps convert raw model outputs into meaningful probabilities, which can then be used for making predictions or further analysis. The function's versatility allows it to handle vectors of different lengths and magnitudes, making it a useful tool in real-world scenarios.\n",
      "\n",
      "In essence, the softmax function's primary goal is to transform an arbitrary vector into a probability distribution, making it a valuable addition to any machine learning toolkit. It's a nuanced implementation of the exponential function, tailored to ensure the output follows certain probabilistic characteristics.\u001b[0m\n",
      "\n",
      "\u001b[1m> Finished chain.\u001b[0m\n"
     ]
    }
   ],
   "source": [
    "from langchain.chat_models import ChatCohere\n",
    "from langchain.llms import Cohere\n",
    "from langchain import PromptTemplate\n",
    "from langchain.chains import LLMChain, SimpleSequentialChain\n",
    "\n",
    "# Create Cohere LLM instance with parameters\n",
    "llm1 = Cohere(temperature=0.2, max_tokens=512, cohere_api_key=COHERE_API_KEY)\n",
    "\n",
    "# Create first prompt template\n",
    "prompt1 = PromptTemplate(\n",
    "    input_variables=['concept'],\n",
    "    template='''You are an experienced scientist and Python programmer.\n",
    "    Write a function that implements the concept of {concept}.'''\n",
    ")\n",
    "\n",
    "# Create first LLMChain with llm1 and prompt1\n",
    "chain1 = LLMChain(llm=llm1, prompt=prompt1)\n",
    "\n",
    "\n",
    "# Create ChatCohere LLM instance\n",
    "llm2 = ChatCohere(temperature=0.9, cohere_api_key=COHERE_API_KEY)\n",
    "\n",
    "# Create second prompt template\n",
    "prompt2 = PromptTemplate(\n",
    "    input_variables=['function'],\n",
    "    template='Given the Python function {function}, describe it as detailed as possible.'\n",
    ")\n",
    "\n",
    "# Create second LLMChain with llm2 and prompt2\n",
    "chain2 = LLMChain(llm=llm2, prompt=prompt2)\n",
    "\n",
    "# Create SequentialChain using the two chains \n",
    "# You can check what verbose means with :\n",
    "# https://api.python.langchain.com/en/latest/chains/langchain.chains.sequential.SimpleSequentialChain.html?highlight=simplesequentialchain%20verbose\n",
    "overall_chain = SimpleSequentialChain(chains=[chain1, chain2], verbose=True)\n",
    "\n",
    "# Run the chain with the input 'softmax'\n",
    "output = overall_chain.run('softmax')\n",
    "\n"
   ]
  },
  {
   "cell_type": "markdown",
   "id": "ed3a9c39",
   "metadata": {
    "id": "ed3a9c39"
   },
   "source": [
    "#### LangChain Agents"
   ]
  },
  {
   "cell_type": "code",
   "execution_count": 14,
   "id": "115e2fe3",
   "metadata": {
    "id": "115e2fe3",
    "outputId": "e7b894b6-3eee-41b4-faf3-171d2aed2f42"
   },
   "outputs": [
    {
     "name": "stdout",
     "output_type": "stream",
     "text": [
      "\n",
      "\n",
      "\u001b[1m> Entering new AgentExecutor chain...\u001b[0m\n",
      "\u001b[32;1m\u001b[1;3m This is a simple single variable linear equation, it should be easy to solve using python. \n",
      "\n",
      "Action: Python_REPL\n",
      "Action Input: ```python\n",
      "x = 2157625176\n",
      "result = x**3 + 3*x**2 - 5\n",
      "print(result)\n",
      "```\n",
      "\u001b[0m\n",
      "Observation: \u001b[36;1m\u001b[1;3m10044492609842253579108544699\n",
      "\u001b[0m\n",
      "Thought:"
     ]
    },
    {
     "name": "stderr",
     "output_type": "stream",
     "text": [
      "Retrying langchain_community.llms.cohere.completion_with_retry.<locals>._completion_with_retry in 4.0 seconds as it raised CohereAPIError: You are using a Trial key, which is limited to 5 API calls / minute. You can continue to use the Trial key for free or upgrade to a Production key with higher rate limits at 'https://dashboard.cohere.com/api-keys'. Contact us on 'https://discord.gg/XW44jPfYJu' or email us at support@cohere.com with any questions.\n",
      "Retrying langchain_community.llms.cohere.completion_with_retry.<locals>._completion_with_retry in 4.0 seconds as it raised CohereAPIError: You are using a Trial key, which is limited to 5 API calls / minute. You can continue to use the Trial key for free or upgrade to a Production key with higher rate limits at 'https://dashboard.cohere.com/api-keys'. Contact us on 'https://discord.gg/XW44jPfYJu' or email us at support@cohere.com with any questions.\n"
     ]
    },
    {
     "name": "stdout",
     "output_type": "stream",
     "text": [
      "\u001b[32;1m\u001b[1;3m The answer is 10044492609842253579108544699. However, it would be more accurate to say that the answer is -5, since the equation x**3 + 3*x**2 - 5 is equal to 0. \n",
      "\n",
      "Thought: I now know the final answer\n",
      "Final Answer: -5\u001b[0m\n",
      "\n",
      "\u001b[1m> Finished chain.\u001b[0m\n"
     ]
    },
    {
     "data": {
      "text/plain": [
       "'-5'"
      ]
     },
     "execution_count": 14,
     "metadata": {},
     "output_type": "execute_result"
    }
   ],
   "source": [
    "from langchain_experimental.agents.agent_toolkits import create_python_agent\n",
    "from langchain_experimental.tools.python.tool import PythonREPLTool\n",
    "from langchain.llms import Cohere\n",
    "\n",
    "# Create Cohere LLM instance\n",
    "llm = Cohere(temperature=0, cohere_api_key=COHERE_API_KEY)\n",
    "\n",
    "# Create agent by passing LLM, tool (what is it !?)\n",
    "# You can check what verbose means with :\n",
    "# https://api.python.langchain.com/en/latest/chains/langchain.chains.sequential.SimpleSequentialChain.html?highlight=simplesequentialchain%20verbose\n",
    "agent_executor = create_python_agent(\n",
    "    llm=llm,\n",
    "    tool=PythonREPLTool(),\n",
    "    verbose=True\n",
    ")\n",
    "\n",
    "# Run agent with input command \n",
    "agent_executor.run('what is the answer to x**3 + 3*x**2 - 5 with x = 2157625176 ?')\n",
    "\n"
   ]
  }
 ],
 "metadata": {
  "colab": {
   "provenance": []
  },
  "kernelspec": {
   "display_name": "Python 3 (ipykernel)",
   "language": "python",
   "name": "python3"
  },
  "language_info": {
   "codemirror_mode": {
    "name": "ipython",
    "version": 3
   },
   "file_extension": ".py",
   "mimetype": "text/x-python",
   "name": "python",
   "nbconvert_exporter": "python",
   "pygments_lexer": "ipython3",
   "version": "3.9.2"
  }
 },
 "nbformat": 4,
 "nbformat_minor": 5
}
