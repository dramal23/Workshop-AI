{
 "cells": [
  {
   "cell_type": "markdown",
   "id": "640e4bbc",
   "metadata": {},
   "source": [
    "# Project: Question-Answering on Private Documents"
   ]
  },
  {
   "cell_type": "markdown",
   "id": "e63104e5-c8bc-4be5-8bf1-0b144f56c194",
   "metadata": {},
   "source": [
    "## Here is all the package needed"
   ]
  },
  {
   "cell_type": "code",
   "execution_count": 10,
   "id": "ed9cc16b-60c7-467d-85d7-fdf20e4b365b",
   "metadata": {},
   "outputs": [],
   "source": [
    "!pip install pypdf -q\n",
    "#Once install you don't need to explicitly import pypdf after installing it, because it's already there ready to use"
   ]
  },
  {
   "cell_type": "code",
   "execution_count": 11,
   "id": "b2fe4db2-cf37-4f62-8f25-968d9f551fa5",
   "metadata": {},
   "outputs": [],
   "source": [
    "!pip install docx2txt -q\n",
    "#Once install you don't need to explicitly import pypdf after installing it, because it's already there ready to use"
   ]
  },
  {
   "cell_type": "code",
   "execution_count": 15,
   "id": "b748fd20",
   "metadata": {},
   "outputs": [],
   "source": [
    "import os\n",
    "from dotenv import load_dotenv, find_dotenv\n",
    "\n",
    "load_dotenv(find_dotenv(), override=True)\n",
    "\n",
    "# You can add other package here if needed\n",
    "from langchain_community.document_loaders import TextLoader\n",
    "from langchain_community.document_loaders import PyPDFLoader"
   ]
  },
  {
   "cell_type": "markdown",
   "id": "07900179",
   "metadata": {},
   "source": [
    "### Loading Documents"
   ]
  },
  {
   "cell_type": "code",
   "execution_count": 39,
   "id": "e1ae19b5",
   "metadata": {},
   "outputs": [],
   "source": [
    "# The goal is to loading PDF, DOCX and TXT files as LangChain Documents\n",
    "def load_document(file):\n",
    "\n",
    "    name, extension = os.path.splitext(file) # check splitext()\n",
    "\n",
    "    if extension == '.pdf':\n",
    "        # Find how to load PDF document with https://python.langchain.com/docs/modules/data_connection/document_loaders/\n",
    "        print(f'Loading {file}')\n",
    "        loader = PyPDFLoader(f\"{name}{extension}\")\n",
    "        #pages = loader.load_and_split()\n",
    "    elif extension == '.docx':\n",
    "        # Find how to load DOCX document with https://python.langchain.com/docs/modules/data_connection/document_loaders/\n",
    "        print(f'Loading {file}')\n",
    "        loader = TextLoader(f\"{name}{extension}\")\n",
    "    elif extension == '.txt':\n",
    "        # Find how to load TXT document with https://python.langchain.com/docs/modules/data_connection/document_loaders/\n",
    "        loader = TextLoader(f\"{name}{extension}\")\n",
    "    else:\n",
    "        print('Document format is not supported!')\n",
    "        return None\n",
    "\n",
    "    data = loader.load()\n",
    "\n",
    "    # Verification\n",
    "    if len(data) != 0:\n",
    "        return data\n",
    "    else:\n",
    "        print('Document is empty')\n",
    "        return None\n",
    "  "
   ]
  },
  {
   "cell_type": "markdown",
   "id": "e8de1215-74a7-4cc1-95d4-e459c53b7905",
   "metadata": {},
   "source": [
    "#### Verification "
   ]
  },
  {
   "cell_type": "code",
   "execution_count": 40,
   "id": "ded01fb4-cb85-448f-b4bc-52eb92efc440",
   "metadata": {
    "scrolled": true
   },
   "outputs": [
    {
     "name": "stdout",
     "output_type": "stream",
     "text": [
      "Loading ./documents/churchill_speech.pdf\n",
      "[Document(page_content=\"Winston Churchill Speech - We Shall Fight on the Beaches We Shall Fight on the Beaches June 4, 1940 House of Commons From the moment that the French defenses at Sedan and on the Meuse were broken at the end of the second week of May, only a rapid retreat to Amiens and the south could have saved the BriGsh and French Armies who had entered Belgium at the appeal of the Belgian King; but this strategic fact was not immediately realized. The French High Command hoped they would be able to close the gap, and the Armies of the north were under their orders. Moreover, a reGrement of this kind would have involved almost certainly the destrucGon of the ﬁne Belgian Army of over 20 divisions and the abandonment of the whole of Belgium. Therefore, when the force and scope of the German penetraGon were realized and when a new French Generalissimo, General Weygand, assumed command in place of General Gamelin, an eﬀort was made by the French and BriGsh Armies in Belgium to keep on holding the right hand of the Belgians and to give their own right hand to a newly created French Army which was to have advanced across the Somme in great strength to grasp it. However, the German erupGon swept like a sharp scythe around the right and rear of the Armies of the north. Eight or nine armored divisions, each of about four hundred armored vehicles of diﬀerent kinds, but carefully assorted to be complementary and divisible into small self-contained units, cut oﬀ all communicaGons between us and the main French Armies. It severed our own communicaGons for food and ammuniGon, which ran ﬁrst to Amiens and aSerwards through Abbeville, and it shore its way up the coast to Boulogne and Calais, and almost to Dunkirk. Behind this armored and mechanized onslaught came a number of German divisions in lorries, and behind them again there plodded comparaGvely slowly the dull brute mass of the ordinary German Army and German people, always so ready to be led to the trampling down in other lands of liberGes and comforts which they have never known in their own. I have said this armored scythe-stroke almost reached Dunkirk-almost but not quite. Boulogne and Calais were the scenes of desperate ﬁghGng. The Guards defended Boulogne for a while and were then withdrawn by orders from this country. The Riﬂe Brigade, the 60th Riﬂes, and the Queen Victoria's Riﬂes, with a ba\\\\alion of BriGsh tanks and 1,000 Frenchmen, in all about four thousand strong, defended Calais to the last. The BriGsh Brigadier was given an hour to surrender. He spurned the oﬀer, and four days of intense street ﬁghGng passed before silence reigned over Calais, which marked the end of a memorable resistance. Only 30 unwounded survivors were brought oﬀ by the Navy, and we do not know the fate of their comrades. Their sacriﬁce, however, was not in vain. At least two armored divisions, which otherwise would have been turned against the BriGsh ExpediGonary Force, had to be sent to overcome them. They have added another page to the glories of the light divisions, and the Gme gained enabled the Graveline water lines to be ﬂooded and to be held by the French troops. \", metadata={'source': './documents/churchill_speech.pdf', 'page': 0}), Document(page_content='Thus it was that the port of Dunkirk was kept open. When it was found impossible for the Armies of the north to reopen their communicaGons to Amiens with the main French Armies, only one choice remained. It seemed, indeed, forlorn. The Belgian, BriGsh and French Armies were almost surrounded. Their sole line of retreat was to a single port and to its neighboring beaches. They were pressed on every side by heavy a\\\\acks and far outnumbered in the air. When, a week ago today, I asked the House to ﬁx this aSernoon as the occasion for a statement, I feared it would be my hard lot to announce the greatest military disaster in our long history. I thought-and some good judges agreed with me-that perhaps 20,000 or 30,000 men might be reembarked. But it certainly seemed that the whole of the French First Army and the whole of the BriGsh ExpediGonary Force north of the Amiens-Abbeville gap would be broken up in the open ﬁeld or else would have to capitulate for lack of food and ammuniGon. These were the hard and heavy Gdings for which I called upon the House and the naGon to prepare themselves a week ago. The whole root and core and brain of the BriGsh Army, on which and around which we were to build, and are to build, the great BriGsh Armies in the later years of the war, seemed about to perish upon the ﬁeld or to be led into an ignominious and starving capGvity. That was the prospect a week ago. But another blow which might well have proved ﬁnal was yet to fall upon us. The King of the Belgians had called upon us to come to his aid. Had not this Ruler and his Government severed themselves from the Allies, who rescued their country from exGncGon in the late war, and had they not sought refuge in what was proved to be a fatal neutrality, the French and BriGsh Armies might well at the outset have saved not only Belgium but perhaps even Poland. Yet at the last moment, when Belgium was already invaded, King Leopold called upon us to come to his aid, and even at the last moment we came. He and his brave, eﬃcient Army, nearly half a million strong, guarded our leS ﬂank and thus kept open our only line of retreat to the sea. Suddenly, without prior consultaGon, with the least possible noGce, without the advice of his Ministers and upon his own personal act, he sent a plenipotenGary to the German Command, surrendered his Army, and exposed our whole ﬂank and means of retreat. I asked the House a week ago to suspend its judgment because the facts were not clear, but I do not feel that any reason now exists why we should not form our own opinions upon this piGful episode. The surrender of the Belgian Army compelled the BriGsh at the shortest noGce to cover a ﬂank to the sea more than 30 miles in length. Otherwise all would have been cut oﬀ, and all would have shared the fate to which King Leopold had condemned the ﬁnest Army his country had ever formed. So in doing this and in exposing this ﬂank, as anyone who followed the operaGons on the map will see, contact was lost between the BriGsh and two out of the three corps forming the First French Army, who were sGll farther from the coast than we were, and it seemed impossible that any large number of Allied troops could reach the coast. The enemy a\\\\acked on all sides with great strength and ﬁerceness, and their main power, the power ', metadata={'source': './documents/churchill_speech.pdf', 'page': 1}), Document(page_content='of their far more numerous Air Force, was thrown into the ba\\\\le or else concentrated upon Dunkirk and the beaches. Pressing in upon the narrow exit, both from the east and from the west, the enemy began to ﬁre with cannon upon the beaches by which alone the shipping could approach or depart. They sowed magneGc mines in the channels and seas; they sent repeated waves of hosGle aircraS, someGmes more than a hundred strong in one formaGon, to cast their bombs upon the single pier that remained, and upon the sand dunes upon which the troops had their eyes for shelter. Their U-boats, one of which was sunk, and their motor launches took their toll of the vast traﬃc which now began. For four or ﬁve days an intense struggle reigned. All their armored divisions-or what Was leS of them-together with great masses of infantry and arGllery, hurled themselves in vain upon the evernarrowing, ever-contracGng appendix within which the BriGsh and French Armies fought. Meanwhile, the Royal Navy, with the willing help of countless merchant seamen, strained every nerve to embark the BriGsh and Allied troops; 220 light warships and 650 other vessels were engaged. They had to operate upon the diﬃcult coast, oSen in adverse weather, under an almost ceaseless hail of bombs and an increasing concentraGon of arGllery ﬁre. Nor were the seas, as I have said, themselves free from mines and torpedoes. It was in condiGons such as these that our men carried on, with li\\\\le or no rest, for days and nights on end, making trip aSer trip across the dangerous waters, bringing with them always men whom they had rescued. The numbers they have brought back are the measure of their devoGon and their courage. The hospital ships, which brought oﬀ many thousands of BriGsh and French wounded, being so plainly marked were a special target for Nazi bombs; but the men and women on board them never faltered in their duty. Meanwhile, the Royal Air Force, which had already been intervening in the ba\\\\le, so far as its range would allow, from home bases, now used part of its main metropolitan ﬁghter strength, and struck at the German bombers and at the ﬁghters which in large numbers protected them. This struggle was protracted and ﬁerce. Suddenly the scene has cleared, the crash and thunder has for the moment-but only for the moment-died away. A miracle of deliverance, achieved by valor, by perseverance, by perfect discipline, by faultless service, by resource, by skill, by unconquerable ﬁdelity, is manifest to us all. The enemy was hurled back by the retreaGng BriGsh and French troops. He was so roughly handled that he did not hurry their departure seriously. The Royal Air Force engaged the main strength of the German Air Force, and inﬂicted upon them losses of at least four to one; and the Navy, using nearly 1,000 ships of all kinds, carried over 335,000 men, French and BriGsh, out of the jaws of death and shame, to their naGve land and to the tasks which lie immediately ahead. We must be very careful not to assign to this deliverance the a\\\\ributes of a victory. Wars are not won by evacuaGons. But there was a victory inside this deliverance, which should be noted. It was gained by the Air Force. Many of our soldiers coming back have not seen the Air Force at work; they saw only the bombers which escaped its protecGve a\\\\ack. They underrate its achievements. I have heard much talk of this; that is why I go out of my way to say this. I will tell you about it. This was a great trial of strength between the BriGsh and German Air Forces. Can you conceive a greater objecGve for the Germans in the air than to make evacuaGon from these beaches impossible, and to sink all these ships which were displayed, almost to the extent of thousands? Could there have been an objecGve of greater military ', metadata={'source': './documents/churchill_speech.pdf', 'page': 2}), Document(page_content='importance and signiﬁcance for the whole purpose of the war than this? They tried hard, and they were beaten back; they were frustrated in their task. We got the Army away; and they have paid fourfold for any losses which they have inﬂicted. Very large formaGons of German aeroplanes-and we know that they are a very brave race-have turned on several occasions from the a\\\\ack of one-quarter of their number of the Royal Air Force, and have dispersed in diﬀerent direcGons. Twelve aeroplanes have been hunted by two. One aeroplane was driven into the water and cast away by the mere charge of a BriGsh aeroplane, which had no more ammuniGon. All of our types-the Hurricane, the Spiiire and the new Deﬁant-and all our pilots have been vindicated as superior to what they have at present to face. When we consider how much greater would be our advantage in defending the air above this Island against an overseas a\\\\ack, I must say that I ﬁnd in these facts a sure basis upon which pracGcal and reassuring thoughts may rest. I will pay my tribute to these young airmen. The great French Army was very largely, for the Gme being, cast back and disturbed by the onrush of a few thousands of armored vehicles. May it not also be that the cause of civilizaGon itself will be defended by the skill and devoGon of a few thousand airmen? There never has been, I suppose, in all the world, in all the history of war, such an opportunity for youth. The Knights of the Round Table, the Crusaders, all fall back into the past-not only distant but prosaic; these young men, going forth every morn to guard their naGve land and all that we stand for, holding in their hands these instruments of colossal and sha\\\\ering power, of whom it may be said that Every morn brought forth a noble chance And every chance brought forth a noble knight, deserve our graGtude, as do all the brave men who, in so many ways and on so many occasions, are ready, and conGnue ready to give life and all for their naGve land. I return to the Army. In the long series of very ﬁerce ba\\\\les, now on this front, now on that, ﬁghGng on three fronts at once, ba\\\\les fought by two or three divisions against an equal or somewhat larger number of the enemy, and fought ﬁercely on some of the old grounds that so many of us knew so wellin these ba\\\\les our losses in men have exceeded 30,000 killed, wounded and missing. I take occasion to express the sympathy of the House to all who have suﬀered bereavement or who are sGll anxious. The President of the Board of Trade [Sir Andrew Duncan] is not here today. His son has been killed, and many in the House have felt the pangs of aﬄicGon in the sharpest form. But I will say this about the missing: We have had a large number of wounded come home safely to this country, but I would say about the missing that there may be very many reported missing who will come back home, some day, in one way or another. In the confusion of this ﬁght it is inevitable that many have been leS in posiGons where honor required no further resistance from them. Against this loss of over 30,000 men, we can set a far heavier loss certainly inﬂicted upon the enemy. But our losses in material are enormous. We have perhaps lost one-third of the men we lost in the opening days of the ba\\\\le of 21st March, 1918, but we have lost nearly as many guns -- nearly one thousand-and all our transport, all the armored vehicles that were with the Army in the north. This loss will impose a further delay on the expansion of our military strength. That expansion had not been proceeding as far as we had hoped. The best of all we had to give had gone to the BriGsh ExpediGonary Force, and although they had not the numbers of tanks and some arGcles of equipment which were desirable, they were a very well and ﬁnely equipped Army. They had the ﬁrst-fruits of all that our industry had to give, and that is gone. And now here is this further delay. How long it will be, how long it will last, depends upon the exerGons which we make in this Island. An eﬀort the like of which has never been seen in ', metadata={'source': './documents/churchill_speech.pdf', 'page': 3}), Document(page_content='our records is now being made. Work is proceeding everywhere, night and day, Sundays and week days. Capital and Labor have cast aside their interests, rights, and customs and put them into the common stock. Already the ﬂow of muniGons has leaped forward. There is no reason why we should not in a few months overtake the sudden and serious loss that has come upon us, without retarding the development of our general program. Nevertheless, our thankfulness at the escape of our Army and so many men, whose loved ones have passed through an agonizing week, must not blind us to the fact that what has happened in France and Belgium is a colossal military disaster. The French Army has been weakened, the Belgian Army has been lost, a large part of those forGﬁed lines upon which so much faith had been reposed is gone, many valuable mining districts and factories have passed into the enemy\\'s possession, the whole of the Channel ports are in his hands, with all the tragic consequences that follow from that, and we must expect another blow to be struck almost immediately at us or at France. We are told that Herr Hitler has a plan for invading the BriGsh Isles. This has oSen been thought of before. When Napoleon lay at Boulogne for a year with his ﬂat-bo\\\\omed boats and his Grand Army, he was told by someone. \"There are bi\\\\er weeds in England.\" There are certainly a great many more of them since the BriGsh ExpediGonary Force returned. The whole quesGon of home defense against invasion is, of course, powerfully aﬀected by the fact that we have for the Gme being in this Island incomparably more powerful military forces than we have ever had at any moment in this war or the last. But this will not conGnue. We shall not be content with a defensive war. We have our duty to our Ally. We have to reconsGtute and build up the BriGsh ExpediGonary Force once again, under its gallant Commander-in-Chief, Lord Gort. All this is in train; but in the interval we must put our defenses in this Island into such a high state of organizaGon that the fewest possible numbers will be required to give eﬀecGve security and that the largest possible potenGal of oﬀensive eﬀort may be realized. On this we are now engaged. It will be very convenient, if it be the desire of the House, to enter upon this subject in a secret Session. Not that the government would necessarily be able to reveal in very great detail military secrets, but we like to have our discussions free, without the restraint imposed by the fact that they will be read the next day by the enemy; and the Government would beneﬁt by views freely expressed in all parts of the House by Members with their knowledge of so many diﬀerent parts of the country. I understand that some request is to be made upon this subject, which will be readily acceded to by His Majesty\\'s Government. We have found it necessary to take measures of increasing stringency, not only against enemy aliens and suspicious characters of other naGonaliGes, but also against BriGsh subjects who may become a danger or a nuisance should the war be transported to the United Kingdom. I know there are a great many people aﬀected by the orders which we have made who are the passionate enemies of Nazi Germany. I am very sorry for them, but we cannot, at the present Gme and under the present stress, draw all the disGncGons which we should like to do. If parachute landings were a\\\\empted and ﬁerce ﬁghGng a\\\\endant upon them followed, these unfortunate people would be far be\\\\er out of the way, for their own sakes as well as for ours. There is, however, another class, for which I feel not the slightest sympathy. Parliament has given us the powers to put down FiSh Column acGviGes with a strong hand, and we shall use those powers subject to the ', metadata={'source': './documents/churchill_speech.pdf', 'page': 4}), Document(page_content=\"supervision and correcGon of the House, without the slightest hesitaGon unGl we are saGsﬁed, and more than saGsﬁed, that this malignancy in our midst has been eﬀecGvely stamped out. Turning once again, and this Gme more generally, to the quesGon of invasion, I would observe that there has never been a period in all these long centuries of which we boast when an absolute guarantee against invasion, sGll less against serious raids, could have been given to our people. In the days of Napoleon the same wind which would have carried his transports across the Channel might have driven away the blockading ﬂeet. There was always the chance, and it is that chance which has excited and befooled the imaginaGons of many ConGnental tyrants. Many are the tales that are told. We are assured that novel methods will be adopted, and when we see the originality of malice, the ingenuity of aggression, which our enemy displays, we may certainly prepare ourselves for every kind of novel stratagem and every kind of brutal and treacherous maneuver. I think that no idea is so outlandish that it should not be considered and viewed with a searching, but at the same Gme, I hope, with a steady eye. We must never forget the solid assurances of sea power and those which belong to air power if it can be locally exercised. I have, myself, full conﬁdence that if all do their duty, if nothing is neglected, and if the best arrangements are made, as they are being made, we shall prove ourselves once again able to defend our Island home, to ride out the storm of war, and to outlive the menace of tyranny, if necessary for years, if necessary alone. At any rate, that is what we are going to try to do. That is the resolve of His Majesty's Government-every man of them. That is the will of Parliament and the naGon. The BriGsh Empire and the French Republic, linked together in their cause and in their need, will defend to the death their naGve soil, aiding each other like good comrades to the utmost of their strength. Even though large tracts of Europe and many old and famous States have fallen or may fall into the grip of the Gestapo and all the odious apparatus of Nazi rule, we shall not ﬂag or fail. We shall go on to the end, we shall ﬁght in France, we shall ﬁght on the seas and oceans, we shall ﬁght with growing conﬁdence and growing strength in the air, we shall defend our Island, whatever the cost may be, we shall ﬁght on the beaches, we shall ﬁght on the landing grounds, we shall ﬁght in the ﬁelds and in the streets, we shall ﬁght in the hills; we shall never surrender, and even if, which I do not for a moment believe, this Island or a large part of it were subjugated and starving, then our Empire beyond the seas, armed and guarded by the BriGsh Fleet, would carry on the struggle, unGl, in God's good Gme, the New World, with all its power and might, steps forth to the rescue and the liberaGon of the old. \", metadata={'source': './documents/churchill_speech.pdf', 'page': 5})]\n",
      "Loading ./documents/churchill_speech.docx\n"
     ]
    },
    {
     "ename": "RuntimeError",
     "evalue": "Error loading ./documents/churchill_speech.docx",
     "output_type": "error",
     "traceback": [
      "\u001b[0;31m---------------------------------------------------------------------------\u001b[0m",
      "\u001b[0;31mUnicodeDecodeError\u001b[0m                        Traceback (most recent call last)",
      "File \u001b[0;32m/usr/local/lib/python3.9/dist-packages/langchain_community/document_loaders/text.py:42\u001b[0m, in \u001b[0;36mTextLoader.load\u001b[0;34m(self)\u001b[0m\n\u001b[1;32m     41\u001b[0m     \u001b[38;5;28;01mwith\u001b[39;00m \u001b[38;5;28mopen\u001b[39m(\u001b[38;5;28mself\u001b[39m\u001b[38;5;241m.\u001b[39mfile_path, encoding\u001b[38;5;241m=\u001b[39m\u001b[38;5;28mself\u001b[39m\u001b[38;5;241m.\u001b[39mencoding) \u001b[38;5;28;01mas\u001b[39;00m f:\n\u001b[0;32m---> 42\u001b[0m         text \u001b[38;5;241m=\u001b[39m \u001b[43mf\u001b[49m\u001b[38;5;241;43m.\u001b[39;49m\u001b[43mread\u001b[49m\u001b[43m(\u001b[49m\u001b[43m)\u001b[49m\n\u001b[1;32m     43\u001b[0m \u001b[38;5;28;01mexcept\u001b[39;00m \u001b[38;5;167;01mUnicodeDecodeError\u001b[39;00m \u001b[38;5;28;01mas\u001b[39;00m e:\n",
      "File \u001b[0;32m/usr/lib/python3.9/codecs.py:322\u001b[0m, in \u001b[0;36mBufferedIncrementalDecoder.decode\u001b[0;34m(self, input, final)\u001b[0m\n\u001b[1;32m    321\u001b[0m data \u001b[38;5;241m=\u001b[39m \u001b[38;5;28mself\u001b[39m\u001b[38;5;241m.\u001b[39mbuffer \u001b[38;5;241m+\u001b[39m \u001b[38;5;28minput\u001b[39m\n\u001b[0;32m--> 322\u001b[0m (result, consumed) \u001b[38;5;241m=\u001b[39m \u001b[38;5;28;43mself\u001b[39;49m\u001b[38;5;241;43m.\u001b[39;49m\u001b[43m_buffer_decode\u001b[49m\u001b[43m(\u001b[49m\u001b[43mdata\u001b[49m\u001b[43m,\u001b[49m\u001b[43m \u001b[49m\u001b[38;5;28;43mself\u001b[39;49m\u001b[38;5;241;43m.\u001b[39;49m\u001b[43merrors\u001b[49m\u001b[43m,\u001b[49m\u001b[43m \u001b[49m\u001b[43mfinal\u001b[49m\u001b[43m)\u001b[49m\n\u001b[1;32m    323\u001b[0m \u001b[38;5;66;03m# keep undecoded input until the next call\u001b[39;00m\n",
      "\u001b[0;31mUnicodeDecodeError\u001b[0m: 'utf-8' codec can't decode byte 0xd2 in position 16: invalid continuation byte",
      "\nThe above exception was the direct cause of the following exception:\n",
      "\u001b[0;31mRuntimeError\u001b[0m                              Traceback (most recent call last)",
      "Cell \u001b[0;32mIn[40], line 6\u001b[0m\n\u001b[1;32m      3\u001b[0m text_file\u001b[38;5;241m=\u001b[39m\u001b[38;5;124m\"\u001b[39m\u001b[38;5;124m./documents/churchill_speech.txt\u001b[39m\u001b[38;5;124m\"\u001b[39m\n\u001b[1;32m      5\u001b[0m \u001b[38;5;28mprint\u001b[39m(load_document(pdf_file))\n\u001b[0;32m----> 6\u001b[0m \u001b[38;5;28mprint\u001b[39m(\u001b[43mload_document\u001b[49m\u001b[43m(\u001b[49m\u001b[43mdocx_file\u001b[49m\u001b[43m)\u001b[49m)\n\u001b[1;32m      7\u001b[0m \u001b[38;5;28mprint\u001b[39m(load_document(text_file))\n",
      "Cell \u001b[0;32mIn[39], line 22\u001b[0m, in \u001b[0;36mload_document\u001b[0;34m(file)\u001b[0m\n\u001b[1;32m     19\u001b[0m     \u001b[38;5;28mprint\u001b[39m(\u001b[38;5;124m'\u001b[39m\u001b[38;5;124mDocument format is not supported!\u001b[39m\u001b[38;5;124m'\u001b[39m)\n\u001b[1;32m     20\u001b[0m     \u001b[38;5;28;01mreturn\u001b[39;00m \u001b[38;5;28;01mNone\u001b[39;00m\n\u001b[0;32m---> 22\u001b[0m data \u001b[38;5;241m=\u001b[39m \u001b[43mloader\u001b[49m\u001b[38;5;241;43m.\u001b[39;49m\u001b[43mload\u001b[49m\u001b[43m(\u001b[49m\u001b[43m)\u001b[49m\n\u001b[1;32m     24\u001b[0m \u001b[38;5;66;03m# Verification\u001b[39;00m\n\u001b[1;32m     25\u001b[0m \u001b[38;5;28;01mif\u001b[39;00m \u001b[38;5;28mlen\u001b[39m(data) \u001b[38;5;241m!=\u001b[39m \u001b[38;5;241m0\u001b[39m:\n",
      "File \u001b[0;32m/usr/local/lib/python3.9/dist-packages/langchain_community/document_loaders/text.py:55\u001b[0m, in \u001b[0;36mTextLoader.load\u001b[0;34m(self)\u001b[0m\n\u001b[1;32m     53\u001b[0m                 \u001b[38;5;28;01mcontinue\u001b[39;00m\n\u001b[1;32m     54\u001b[0m     \u001b[38;5;28;01melse\u001b[39;00m:\n\u001b[0;32m---> 55\u001b[0m         \u001b[38;5;28;01mraise\u001b[39;00m \u001b[38;5;167;01mRuntimeError\u001b[39;00m(\u001b[38;5;124mf\u001b[39m\u001b[38;5;124m\"\u001b[39m\u001b[38;5;124mError loading \u001b[39m\u001b[38;5;132;01m{\u001b[39;00m\u001b[38;5;28mself\u001b[39m\u001b[38;5;241m.\u001b[39mfile_path\u001b[38;5;132;01m}\u001b[39;00m\u001b[38;5;124m\"\u001b[39m) \u001b[38;5;28;01mfrom\u001b[39;00m \u001b[38;5;21;01me\u001b[39;00m\n\u001b[1;32m     56\u001b[0m \u001b[38;5;28;01mexcept\u001b[39;00m \u001b[38;5;167;01mException\u001b[39;00m \u001b[38;5;28;01mas\u001b[39;00m e:\n\u001b[1;32m     57\u001b[0m     \u001b[38;5;28;01mraise\u001b[39;00m \u001b[38;5;167;01mRuntimeError\u001b[39;00m(\u001b[38;5;124mf\u001b[39m\u001b[38;5;124m\"\u001b[39m\u001b[38;5;124mError loading \u001b[39m\u001b[38;5;132;01m{\u001b[39;00m\u001b[38;5;28mself\u001b[39m\u001b[38;5;241m.\u001b[39mfile_path\u001b[38;5;132;01m}\u001b[39;00m\u001b[38;5;124m\"\u001b[39m) \u001b[38;5;28;01mfrom\u001b[39;00m \u001b[38;5;21;01me\u001b[39;00m\n",
      "\u001b[0;31mRuntimeError\u001b[0m: Error loading ./documents/churchill_speech.docx"
     ]
    }
   ],
   "source": [
    "pdf_file=\"./documents/churchill_speech.pdf\"\n",
    "docx_file=\"./documents/churchill_speech.docx\"\n",
    "text_file=\"./documents/churchill_speech.txt\"\n",
    "\n",
    "print(load_document(pdf_file))\n",
    "print(load_document(docx_file))\n",
    "print(load_document(text_file))"
   ]
  },
  {
   "cell_type": "markdown",
   "id": "367bb8ad",
   "metadata": {},
   "source": [
    "### Chunking Data"
   ]
  },
  {
   "cell_type": "code",
   "execution_count": 41,
   "id": "62c3cb39",
   "metadata": {},
   "outputs": [],
   "source": [
    "from langchain_text_splitters import RecursiveCharacterTextSplitter\n",
    "\n",
    "def chunk_data(data, chunk_size=256):\n",
    "    # Find how to load a built-in document transformers that make it easy to split with https://python.langchain.com/docs/modules/data_connection/document_transformers/\n",
    "    text_splitter = RecursiveCharacterTextSplitter(\n",
    "    chunk_size=100,\n",
    "    chunk_overlap=20,\n",
    "    length_function=len,\n",
    "    is_separator_regex=False,\n",
    ")\n",
    "    # chunks = split the data into chunks\n",
    "    chunks = text_splitter.create_documents([data])\n",
    "    # Verification\n",
    "    if len(chunks) != 0:\n",
    "        return chunks\n",
    "    else:\n",
    "        print('Document is not split')\n",
    "        return None\n",
    "    "
   ]
  },
  {
   "cell_type": "markdown",
   "id": "f1836be9-061f-4bd3-a342-ae5e57ffc626",
   "metadata": {},
   "source": [
    "#### Verification"
   ]
  },
  {
   "cell_type": "code",
   "execution_count": 42,
   "id": "1885a99d-34c9-4cd9-808e-a8da3927705d",
   "metadata": {},
   "outputs": [
    {
     "ename": "TypeError",
     "evalue": "expected string or bytes-like object",
     "output_type": "error",
     "traceback": [
      "\u001b[0;31m---------------------------------------------------------------------------\u001b[0m",
      "\u001b[0;31mTypeError\u001b[0m                                 Traceback (most recent call last)",
      "Cell \u001b[0;32mIn[42], line 2\u001b[0m\n\u001b[1;32m      1\u001b[0m data \u001b[38;5;241m=\u001b[39m load_document(text_file)\n\u001b[0;32m----> 2\u001b[0m chunks \u001b[38;5;241m=\u001b[39m \u001b[43mchunk_data\u001b[49m\u001b[43m(\u001b[49m\u001b[43mdata\u001b[49m\u001b[43m)\u001b[49m\n\u001b[1;32m      3\u001b[0m \u001b[38;5;28mprint\u001b[39m(\u001b[38;5;28mlen\u001b[39m(chunks))\n",
      "Cell \u001b[0;32mIn[41], line 12\u001b[0m, in \u001b[0;36mchunk_data\u001b[0;34m(data, chunk_size)\u001b[0m\n\u001b[1;32m      5\u001b[0m     text_splitter \u001b[38;5;241m=\u001b[39m RecursiveCharacterTextSplitter(\n\u001b[1;32m      6\u001b[0m     chunk_size\u001b[38;5;241m=\u001b[39m\u001b[38;5;241m100\u001b[39m,\n\u001b[1;32m      7\u001b[0m     chunk_overlap\u001b[38;5;241m=\u001b[39m\u001b[38;5;241m20\u001b[39m,\n\u001b[1;32m      8\u001b[0m     length_function\u001b[38;5;241m=\u001b[39m\u001b[38;5;28mlen\u001b[39m,\n\u001b[1;32m      9\u001b[0m     is_separator_regex\u001b[38;5;241m=\u001b[39m\u001b[38;5;28;01mFalse\u001b[39;00m,\n\u001b[1;32m     10\u001b[0m )\n\u001b[1;32m     11\u001b[0m     \u001b[38;5;66;03m# chunks = split the data into chunks\u001b[39;00m\n\u001b[0;32m---> 12\u001b[0m     chunks \u001b[38;5;241m=\u001b[39m \u001b[43mtext_splitter\u001b[49m\u001b[38;5;241;43m.\u001b[39;49m\u001b[43mcreate_documents\u001b[49m\u001b[43m(\u001b[49m\u001b[43m[\u001b[49m\u001b[43mdata\u001b[49m\u001b[43m]\u001b[49m\u001b[43m)\u001b[49m\n\u001b[1;32m     13\u001b[0m     \u001b[38;5;66;03m# Verification\u001b[39;00m\n\u001b[1;32m     14\u001b[0m     \u001b[38;5;28;01mif\u001b[39;00m \u001b[38;5;28mlen\u001b[39m(chunks) \u001b[38;5;241m!=\u001b[39m \u001b[38;5;241m0\u001b[39m:\n",
      "File \u001b[0;32m/usr/local/lib/python3.9/dist-packages/langchain_text_splitters/base.py:78\u001b[0m, in \u001b[0;36mTextSplitter.create_documents\u001b[0;34m(self, texts, metadatas)\u001b[0m\n\u001b[1;32m     76\u001b[0m index \u001b[38;5;241m=\u001b[39m \u001b[38;5;241m0\u001b[39m\n\u001b[1;32m     77\u001b[0m previous_chunk_len \u001b[38;5;241m=\u001b[39m \u001b[38;5;241m0\u001b[39m\n\u001b[0;32m---> 78\u001b[0m \u001b[38;5;28;01mfor\u001b[39;00m chunk \u001b[38;5;129;01min\u001b[39;00m \u001b[38;5;28;43mself\u001b[39;49m\u001b[38;5;241;43m.\u001b[39;49m\u001b[43msplit_text\u001b[49m\u001b[43m(\u001b[49m\u001b[43mtext\u001b[49m\u001b[43m)\u001b[49m:\n\u001b[1;32m     79\u001b[0m     metadata \u001b[38;5;241m=\u001b[39m copy\u001b[38;5;241m.\u001b[39mdeepcopy(_metadatas[i])\n\u001b[1;32m     80\u001b[0m     \u001b[38;5;28;01mif\u001b[39;00m \u001b[38;5;28mself\u001b[39m\u001b[38;5;241m.\u001b[39m_add_start_index:\n",
      "File \u001b[0;32m/usr/local/lib/python3.9/dist-packages/langchain_text_splitters/character.py:110\u001b[0m, in \u001b[0;36mRecursiveCharacterTextSplitter.split_text\u001b[0;34m(self, text)\u001b[0m\n\u001b[1;32m    109\u001b[0m \u001b[38;5;28;01mdef\u001b[39;00m \u001b[38;5;21msplit_text\u001b[39m(\u001b[38;5;28mself\u001b[39m, text: \u001b[38;5;28mstr\u001b[39m) \u001b[38;5;241m-\u001b[39m\u001b[38;5;241m>\u001b[39m List[\u001b[38;5;28mstr\u001b[39m]:\n\u001b[0;32m--> 110\u001b[0m     \u001b[38;5;28;01mreturn\u001b[39;00m \u001b[38;5;28;43mself\u001b[39;49m\u001b[38;5;241;43m.\u001b[39;49m\u001b[43m_split_text\u001b[49m\u001b[43m(\u001b[49m\u001b[43mtext\u001b[49m\u001b[43m,\u001b[49m\u001b[43m \u001b[49m\u001b[38;5;28;43mself\u001b[39;49m\u001b[38;5;241;43m.\u001b[39;49m\u001b[43m_separators\u001b[49m\u001b[43m)\u001b[49m\n",
      "File \u001b[0;32m/usr/local/lib/python3.9/dist-packages/langchain_text_splitters/character.py:80\u001b[0m, in \u001b[0;36mRecursiveCharacterTextSplitter._split_text\u001b[0;34m(self, text, separators)\u001b[0m\n\u001b[1;32m     78\u001b[0m     separator \u001b[38;5;241m=\u001b[39m _s\n\u001b[1;32m     79\u001b[0m     \u001b[38;5;28;01mbreak\u001b[39;00m\n\u001b[0;32m---> 80\u001b[0m \u001b[38;5;28;01mif\u001b[39;00m \u001b[43mre\u001b[49m\u001b[38;5;241;43m.\u001b[39;49m\u001b[43msearch\u001b[49m\u001b[43m(\u001b[49m\u001b[43m_separator\u001b[49m\u001b[43m,\u001b[49m\u001b[43m \u001b[49m\u001b[43mtext\u001b[49m\u001b[43m)\u001b[49m:\n\u001b[1;32m     81\u001b[0m     separator \u001b[38;5;241m=\u001b[39m _s\n\u001b[1;32m     82\u001b[0m     new_separators \u001b[38;5;241m=\u001b[39m separators[i \u001b[38;5;241m+\u001b[39m \u001b[38;5;241m1\u001b[39m :]\n",
      "File \u001b[0;32m/usr/lib/python3.9/re.py:201\u001b[0m, in \u001b[0;36msearch\u001b[0;34m(pattern, string, flags)\u001b[0m\n\u001b[1;32m    198\u001b[0m \u001b[38;5;28;01mdef\u001b[39;00m \u001b[38;5;21msearch\u001b[39m(pattern, string, flags\u001b[38;5;241m=\u001b[39m\u001b[38;5;241m0\u001b[39m):\n\u001b[1;32m    199\u001b[0m \u001b[38;5;250m    \u001b[39m\u001b[38;5;124;03m\"\"\"Scan through string looking for a match to the pattern, returning\u001b[39;00m\n\u001b[1;32m    200\u001b[0m \u001b[38;5;124;03m    a Match object, or None if no match was found.\"\"\"\u001b[39;00m\n\u001b[0;32m--> 201\u001b[0m     \u001b[38;5;28;01mreturn\u001b[39;00m \u001b[43m_compile\u001b[49m\u001b[43m(\u001b[49m\u001b[43mpattern\u001b[49m\u001b[43m,\u001b[49m\u001b[43m \u001b[49m\u001b[43mflags\u001b[49m\u001b[43m)\u001b[49m\u001b[38;5;241;43m.\u001b[39;49m\u001b[43msearch\u001b[49m\u001b[43m(\u001b[49m\u001b[43mstring\u001b[49m\u001b[43m)\u001b[49m\n",
      "\u001b[0;31mTypeError\u001b[0m: expected string or bytes-like object"
     ]
    }
   ],
   "source": [
    "data = load_document(text_file)\n",
    "chunks = chunk_data(data)\n",
    "print(len(chunks))"
   ]
  },
  {
   "cell_type": "markdown",
   "id": "27f92afa",
   "metadata": {},
   "source": [
    "### Embedding and Uploading to a Vector Database (Pinecone)"
   ]
  },
  {
   "cell_type": "code",
   "execution_count": null,
   "id": "0c72c3cf",
   "metadata": {},
   "outputs": [],
   "source": [
    "def insert_or_fetch_embeddings(index_name, chunks):\n",
    "    from pinecone import Pinecone, PodSpec\n",
    "    from langchain.vectorstores import Pinecone as Pinecone_langchain\n",
    "    from langchain.embeddings import CohereEmbeddings\n",
    "\n",
    "    # Find how to create embeddings instance \n",
    "    # embeddings = ?\n",
    "\n",
    "    # Initialize Pinecone  with API key \n",
    "    # pinecone = ?\n",
    "    \n",
    "    \n",
    "    if index_name in pinecone.list_indexes().names():\n",
    "        print(f'Index {index_name} already exists. Loading embeddings ... ', end='')\n",
    "        vector_store = Pinecone.from_existing_index(index_name, embeddings)\n",
    "        print('Ok')\n",
    "    else:\n",
    "        print(f'Creating index {index_name} and embeddings ...', end='')\n",
    "        # Create index\n",
    "        # TO DO\n",
    "        # Index the text chunks into Pinecone\n",
    "        # TO DO - use chunks/embeddings/index_name\n",
    "       \n",
    "        print('Ok')\n",
    "        \n",
    "    return vector_store\n",
    "    "
   ]
  },
  {
   "cell_type": "markdown",
   "id": "bdf1cb71-01f3-4157-8347-f76d9e76395a",
   "metadata": {},
   "source": [
    "#### Verification"
   ]
  },
  {
   "cell_type": "code",
   "execution_count": null,
   "id": "a6a64a8f-45b1-4c62-82bc-3211293e552f",
   "metadata": {},
   "outputs": [],
   "source": [
    "index_name=\"your_index_name\"\n",
    "\n",
    "vectorstore = insert_or_fetch_embeddings(index_name, chunks)\n",
    "if index_name in pinecone.list_indexes().names():\n",
    "        print(f'Index {index_name} already exists. Loading embeddings ... ', end='')\n",
    "        vector_store = Pinecone.from_existing_index(index_name, embeddings)\n",
    "        print('Verification complete')\n",
    "else:\n",
    "    print('Verification incomplete')\n"
   ]
  },
  {
   "cell_type": "code",
   "execution_count": null,
   "id": "52ef1091",
   "metadata": {},
   "outputs": [],
   "source": [
    "# can be helpful\n",
    "def delete_pinecone_index(index_name='all'):\n",
    "    \n",
    "    if index_name == 'all':\n",
    "        indexes = pinecone.list_indexes().names()\n",
    "        print('Deleting all indexes ... ')\n",
    "        for index in indexes:\n",
    "            pinecone.delete_index(index)\n",
    "        print('Ok')\n",
    "    else:\n",
    "        print(f'Deleting index {index_name} ...', end='')\n",
    "        pinecone.delete_index(index_name)\n",
    "        print('Ok')\n",
    "    "
   ]
  },
  {
   "cell_type": "markdown",
   "id": "462a94cb",
   "metadata": {},
   "source": [
    "### Asking and Getting Answers"
   ]
  },
  {
   "cell_type": "code",
   "execution_count": null,
   "id": "08b0a508",
   "metadata": {},
   "outputs": [],
   "source": [
    "def ask_and_get_answer(vector_store, q):\n",
    "    from langchain.chains import RetrievalQA\n",
    "    from langchain.chat_models import ChatCohere\n",
    "\n",
    "    # llm = ?\n",
    "\n",
    "    # retriever = ?\n",
    "\n",
    "    # chain = ?\n",
    "    \n",
    "    answer = chain.invoke(q)\n",
    "    return answer"
   ]
  },
  {
   "cell_type": "markdown",
   "id": "c1efe8fc",
   "metadata": {},
   "source": [
    "### Running Code in order to complete this project"
   ]
  },
  {
   "cell_type": "code",
   "execution_count": null,
   "id": "23fd7147",
   "metadata": {},
   "outputs": [],
   "source": [
    "data = load_document('path_document')\n",
    "\n",
    "print(f'You have {len(data)} pages in your data')\n",
    "print(f'There are {len(data[20].page_content)} characters in the page')"
   ]
  },
  {
   "cell_type": "code",
   "execution_count": null,
   "id": "64b5d7f5",
   "metadata": {},
   "outputs": [],
   "source": [
    "chunks = chunk_data(data)\n",
    "print(len(chunks))\n",
    "print(chunks[10].page_content)"
   ]
  },
  {
   "cell_type": "code",
   "execution_count": null,
   "id": "8f4f798d",
   "metadata": {},
   "outputs": [],
   "source": [
    "delete_pinecone_index()"
   ]
  },
  {
   "cell_type": "code",
   "execution_count": null,
   "id": "8525a620",
   "metadata": {},
   "outputs": [],
   "source": [
    "index_name = 'name_index'\n",
    "vector_store = insert_or_fetch_embeddings(index_name)"
   ]
  },
  {
   "cell_type": "code",
   "execution_count": null,
   "id": "6b158ff1",
   "metadata": {},
   "outputs": [],
   "source": [
    "q = 'What is the whole document about?'\n",
    "answer = ask_and_get_answer(vector_store, q)\n",
    "print(answer)"
   ]
  },
  {
   "cell_type": "code",
   "execution_count": null,
   "id": "00ddb48f",
   "metadata": {},
   "outputs": [],
   "source": [
    "import time\n",
    "i = 1\n",
    "print('Write Quit or Exit to quit.')\n",
    "while True:\n",
    "    q = input(f'Question #{i}: ')\n",
    "    i = i + 1\n",
    "    if q.lower() in ['quit', 'exit']:\n",
    "        print('Quitting ... bye bye!')\n",
    "        time.sleep(2)\n",
    "        break\n",
    "    \n",
    "    answer = ask_and_get_answer(vector_store, q)\n",
    "    print(f'\\nAnswer: {answer}')\n",
    "    print(f'\\n {\"-\" * 50} \\n')\n",
    "\n",
    "    "
   ]
  },
  {
   "cell_type": "code",
   "execution_count": null,
   "id": "775915c4",
   "metadata": {},
   "outputs": [],
   "source": [
    "delete_pinecone_index()"
   ]
  }
 ],
 "metadata": {
  "kernelspec": {
   "display_name": "Python 3 (ipykernel)",
   "language": "python",
   "name": "python3"
  },
  "language_info": {
   "codemirror_mode": {
    "name": "ipython",
    "version": 3
   },
   "file_extension": ".py",
   "mimetype": "text/x-python",
   "name": "python",
   "nbconvert_exporter": "python",
   "pygments_lexer": "ipython3",
   "version": "3.9.2"
  }
 },
 "nbformat": 4,
 "nbformat_minor": 5
}
